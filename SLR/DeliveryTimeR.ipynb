{
 "cells": [
  {
   "cell_type": "code",
   "execution_count": 19,
   "metadata": {},
   "outputs": [],
   "source": [
    "# choose the Delivery_Time.csv data set\n",
    "dl.tm <- read.csv(file.choose()) "
   ]
  },
  {
   "cell_type": "code",
   "execution_count": 21,
   "metadata": {},
   "outputs": [],
   "source": [
    "# windows()\n",
    "dt.st <- dl.tm"
   ]
  },
  {
   "cell_type": "code",
   "execution_count": 23,
   "metadata": {
    "scrolled": true
   },
   "outputs": [
    {
     "data": {
      "image/png": "[encoded data removed]",
      "text/plain": [
       "plot without title"
      ]
     },
     "metadata": {},
     "output_type": "display_data"
    }
   ],
   "source": [
    "plot(dt.st$Sorting.Time,dt.st$Delivery.Time)"
   ]
  },
  {
   "cell_type": "code",
   "execution_count": 24,
   "metadata": {},
   "outputs": [
    {
     "data": {
      "image/png": "[encoded data removed]",
      "text/plain": [
       "plot without title"
      ]
     },
     "metadata": {},
     "output_type": "display_data"
    }
   ],
   "source": [
    "# Other Exploratory data analysis and Plots\n",
    "\n",
    "boxplot(dt.st)"
   ]
  },
  {
   "cell_type": "code",
   "execution_count": 25,
   "metadata": {},
   "outputs": [
    {
     "data": {
      "image/png": "[encoded data removed]",
      "text/plain": [
       "Plot with title \"Histogram of dt.st$Sorting.Time\""
      ]
     },
     "metadata": {},
     "output_type": "display_data"
    }
   ],
   "source": [
    "hist(dt.st$Sorting.Time)"
   ]
  },
  {
   "cell_type": "code",
   "execution_count": 26,
   "metadata": {},
   "outputs": [
    {
     "data": {
      "text/plain": [
       " Delivery.Time    Sorting.Time  \n",
       " Min.   : 8.00   Min.   : 2.00  \n",
       " 1st Qu.:13.50   1st Qu.: 4.00  \n",
       " Median :17.83   Median : 6.00  \n",
       " Mean   :16.79   Mean   : 6.19  \n",
       " 3rd Qu.:19.75   3rd Qu.: 8.00  \n",
       " Max.   :29.00   Max.   :10.00  "
      ]
     },
     "metadata": {},
     "output_type": "display_data"
    }
   ],
   "source": [
    "summary(dt.st)"
   ]
  },
  {
   "cell_type": "code",
   "execution_count": 27,
   "metadata": {},
   "outputs": [
    {
     "data": {
      "text/html": [
       "0.825997260795533"
      ],
      "text/latex": [
       "0.825997260795533"
      ],
      "text/markdown": [
       "0.825997260795533"
      ],
      "text/plain": [
       "[1] 0.8259973"
      ]
     },
     "metadata": {},
     "output_type": "display_data"
    }
   ],
   "source": [
    "# Correlation coefficient value for Delivery Time and Sorting Time\n",
    "dt<- dt.st$Delivery.Time\n",
    "st <- dt.st$Sorting.Time\n",
    "cor(st,dt)"
   ]
  },
  {
   "cell_type": "code",
   "execution_count": 28,
   "metadata": {},
   "outputs": [
    {
     "data": {
      "text/plain": [
       "\n",
       "Call:\n",
       "lm(formula = dt ~ st)\n",
       "\n",
       "Residuals:\n",
       "    Min      1Q  Median      3Q     Max \n",
       "-5.1729 -2.0298 -0.0298  0.8741  6.6722 \n",
       "\n",
       "Coefficients:\n",
       "            Estimate Std. Error t value Pr(>|t|)    \n",
       "(Intercept)   6.5827     1.7217   3.823  0.00115 ** \n",
       "st            1.6490     0.2582   6.387 3.98e-06 ***\n",
       "---\n",
       "Signif. codes:  0 '***' 0.001 '**' 0.01 '*' 0.05 '.' 0.1 ' ' 1\n",
       "\n",
       "Residual standard error: 2.935 on 19 degrees of freedom\n",
       "Multiple R-squared:  0.6823,\tAdjusted R-squared:  0.6655 \n",
       "F-statistic:  40.8 on 1 and 19 DF,  p-value: 3.983e-06\n"
      ]
     },
     "metadata": {},
     "output_type": "display_data"
    }
   ],
   "source": [
    "# If |r| is greater than  0.85 then Co-relation is Strong(Correlation Co-efficient = 0.8259973). \n",
    "# This has a moderate Correlation \n",
    "\n",
    "# Simple model without using any transformation\n",
    "reg<-lm(dt~st)\n",
    "summary(reg)"
   ]
  },
  {
   "cell_type": "code",
   "execution_count": 29,
   "metadata": {},
   "outputs": [
    {
     "data": {
      "text/html": [
       "<table>\n",
       "<thead><tr><th></th><th scope=col>2.5 %</th><th scope=col>97.5 %</th></tr></thead>\n",
       "<tbody>\n",
       "\t<tr><th scope=row>(Intercept)</th><td>2.979134 </td><td>10.186334</td></tr>\n",
       "\t<tr><th scope=row>st</th><td>1.108673 </td><td> 2.189367</td></tr>\n",
       "</tbody>\n",
       "</table>\n"
      ],
      "text/latex": [
       "\\begin{tabular}{r|ll}\n",
       "  & 2.5 \\% & 97.5 \\%\\\\\n",
       "\\hline\n",
       "\t(Intercept) & 2.979134  & 10.186334\\\\\n",
       "\tst & 1.108673  &  2.189367\\\\\n",
       "\\end{tabular}\n"
      ],
      "text/markdown": [
       "\n",
       "| <!--/--> | 2.5 % | 97.5 % |\n",
       "|---|---|---|\n",
       "| (Intercept) | 2.979134  | 10.186334 |\n",
       "| st | 1.108673  |  2.189367 |\n",
       "\n"
      ],
      "text/plain": [
       "            2.5 %    97.5 %   \n",
       "(Intercept) 2.979134 10.186334\n",
       "st          1.108673  2.189367"
      ]
     },
     "metadata": {},
     "output_type": "display_data"
    }
   ],
   "source": [
    "# Probability value should be less than 0.05(0.00115)\n",
    "# The multiple-R-Squared Value is 0.6823 which is lesser than 0.8(In General)\n",
    "# Adjusted R-Squared Value is 0.6655 \n",
    "# The Probability Value for F-Statistic is 3.983e-06(Overall Probability Model is also less than 0.05)\n",
    "confint(reg,level = 0.95) # confidence interval"
   ]
  },
  {
   "cell_type": "code",
   "execution_count": 30,
   "metadata": {},
   "outputs": [
    {
     "name": "stderr",
     "output_type": "stream",
     "text": [
      "Warning message in predict.lm(reg, interval = \"predict\"):\n",
      "\"predictions on current data refer to _future_ responses\n",
      "\""
     ]
    },
    {
     "data": {
      "text/html": [
       "<table>\n",
       "<thead><tr><th scope=col>fit</th><th scope=col>lwr</th><th scope=col>upr</th></tr></thead>\n",
       "<tbody>\n",
       "\t<tr><td>23.072933</td><td>16.457161</td><td>29.68870 </td></tr>\n",
       "\t<tr><td>13.178814</td><td> 6.780993</td><td>19.57663 </td></tr>\n",
       "\t<tr><td>16.476853</td><td>10.188630</td><td>22.76508 </td></tr>\n",
       "\t<tr><td>21.423913</td><td>14.955850</td><td>27.89198 </td></tr>\n",
       "\t<tr><td>23.072933</td><td>16.457161</td><td>29.68870 </td></tr>\n",
       "\t<tr><td>16.476853</td><td>10.188630</td><td>22.76508 </td></tr>\n",
       "\t<tr><td>18.125873</td><td>11.823294</td><td>24.42845 </td></tr>\n",
       "\t<tr><td>11.529794</td><td> 5.010345</td><td>18.04924 </td></tr>\n",
       "\t<tr><td>23.072933</td><td>16.457161</td><td>29.68870 </td></tr>\n",
       "\t<tr><td>21.423913</td><td>14.955850</td><td>27.89198 </td></tr>\n",
       "\t<tr><td>19.774893</td><td>13.411938</td><td>26.13785 </td></tr>\n",
       "\t<tr><td>13.178814</td><td> 6.780993</td><td>19.57663 </td></tr>\n",
       "\t<tr><td>18.125873</td><td>11.823294</td><td>24.42845 </td></tr>\n",
       "\t<tr><td>11.529794</td><td> 5.010345</td><td>18.04924 </td></tr>\n",
       "\t<tr><td>11.529794</td><td> 5.010345</td><td>18.04924 </td></tr>\n",
       "\t<tr><td>13.178814</td><td> 6.780993</td><td>19.57663 </td></tr>\n",
       "\t<tr><td>16.476853</td><td>10.188630</td><td>22.76508 </td></tr>\n",
       "\t<tr><td>18.125873</td><td>11.823294</td><td>24.42845 </td></tr>\n",
       "\t<tr><td> 9.880774</td><td> 3.198090</td><td>16.56346 </td></tr>\n",
       "\t<tr><td>18.125873</td><td>11.823294</td><td>24.42845 </td></tr>\n",
       "\t<tr><td>14.827833</td><td> 8.507631</td><td>21.14804 </td></tr>\n",
       "</tbody>\n",
       "</table>\n"
      ],
      "text/latex": [
       "\\begin{tabular}{r|lll}\n",
       " fit & lwr & upr\\\\\n",
       "\\hline\n",
       "\t 23.072933 & 16.457161 & 29.68870 \\\\\n",
       "\t 13.178814 &  6.780993 & 19.57663 \\\\\n",
       "\t 16.476853 & 10.188630 & 22.76508 \\\\\n",
       "\t 21.423913 & 14.955850 & 27.89198 \\\\\n",
       "\t 23.072933 & 16.457161 & 29.68870 \\\\\n",
       "\t 16.476853 & 10.188630 & 22.76508 \\\\\n",
       "\t 18.125873 & 11.823294 & 24.42845 \\\\\n",
       "\t 11.529794 &  5.010345 & 18.04924 \\\\\n",
       "\t 23.072933 & 16.457161 & 29.68870 \\\\\n",
       "\t 21.423913 & 14.955850 & 27.89198 \\\\\n",
       "\t 19.774893 & 13.411938 & 26.13785 \\\\\n",
       "\t 13.178814 &  6.780993 & 19.57663 \\\\\n",
       "\t 18.125873 & 11.823294 & 24.42845 \\\\\n",
       "\t 11.529794 &  5.010345 & 18.04924 \\\\\n",
       "\t 11.529794 &  5.010345 & 18.04924 \\\\\n",
       "\t 13.178814 &  6.780993 & 19.57663 \\\\\n",
       "\t 16.476853 & 10.188630 & 22.76508 \\\\\n",
       "\t 18.125873 & 11.823294 & 24.42845 \\\\\n",
       "\t  9.880774 &  3.198090 & 16.56346 \\\\\n",
       "\t 18.125873 & 11.823294 & 24.42845 \\\\\n",
       "\t 14.827833 &  8.507631 & 21.14804 \\\\\n",
       "\\end{tabular}\n"
      ],
      "text/markdown": [
       "\n",
       "| fit | lwr | upr |\n",
       "|---|---|---|\n",
       "| 23.072933 | 16.457161 | 29.68870  |\n",
       "| 13.178814 |  6.780993 | 19.57663  |\n",
       "| 16.476853 | 10.188630 | 22.76508  |\n",
       "| 21.423913 | 14.955850 | 27.89198  |\n",
       "| 23.072933 | 16.457161 | 29.68870  |\n",
       "| 16.476853 | 10.188630 | 22.76508  |\n",
       "| 18.125873 | 11.823294 | 24.42845  |\n",
       "| 11.529794 |  5.010345 | 18.04924  |\n",
       "| 23.072933 | 16.457161 | 29.68870  |\n",
       "| 21.423913 | 14.955850 | 27.89198  |\n",
       "| 19.774893 | 13.411938 | 26.13785  |\n",
       "| 13.178814 |  6.780993 | 19.57663  |\n",
       "| 18.125873 | 11.823294 | 24.42845  |\n",
       "| 11.529794 |  5.010345 | 18.04924  |\n",
       "| 11.529794 |  5.010345 | 18.04924  |\n",
       "| 13.178814 |  6.780993 | 19.57663  |\n",
       "| 16.476853 | 10.188630 | 22.76508  |\n",
       "| 18.125873 | 11.823294 | 24.42845  |\n",
       "|  9.880774 |  3.198090 | 16.56346  |\n",
       "| 18.125873 | 11.823294 | 24.42845  |\n",
       "| 14.827833 |  8.507631 | 21.14804  |\n",
       "\n"
      ],
      "text/plain": [
       "   fit       lwr       upr     \n",
       "1  23.072933 16.457161 29.68870\n",
       "2  13.178814  6.780993 19.57663\n",
       "3  16.476853 10.188630 22.76508\n",
       "4  21.423913 14.955850 27.89198\n",
       "5  23.072933 16.457161 29.68870\n",
       "6  16.476853 10.188630 22.76508\n",
       "7  18.125873 11.823294 24.42845\n",
       "8  11.529794  5.010345 18.04924\n",
       "9  23.072933 16.457161 29.68870\n",
       "10 21.423913 14.955850 27.89198\n",
       "11 19.774893 13.411938 26.13785\n",
       "12 13.178814  6.780993 19.57663\n",
       "13 18.125873 11.823294 24.42845\n",
       "14 11.529794  5.010345 18.04924\n",
       "15 11.529794  5.010345 18.04924\n",
       "16 13.178814  6.780993 19.57663\n",
       "17 16.476853 10.188630 22.76508\n",
       "18 18.125873 11.823294 24.42845\n",
       "19  9.880774  3.198090 16.56346\n",
       "20 18.125873 11.823294 24.42845\n",
       "21 14.827833  8.507631 21.14804"
      ]
     },
     "metadata": {},
     "output_type": "display_data"
    }
   ],
   "source": [
    "# The above code will get you 2 equations \n",
    "# 1 to caliculate the lower range and other for upper range\n",
    "\n",
    "# Function to Predict the above model \n",
    "predict(reg,interval=\"predict\")"
   ]
  },
  {
   "cell_type": "code",
   "execution_count": 31,
   "metadata": {},
   "outputs": [
    {
     "data": {
      "text/plain": [
       "\n",
       "Call:\n",
       "lm(formula = dt ~ log(st))\n",
       "\n",
       "Residuals:\n",
       "    Min      1Q  Median      3Q     Max \n",
       "-4.0829 -2.0133 -0.1965  0.9351  7.0171 \n",
       "\n",
       "Coefficients:\n",
       "            Estimate Std. Error t value Pr(>|t|)    \n",
       "(Intercept)    1.160      2.455   0.472    0.642    \n",
       "log(st)        9.043      1.373   6.587 2.64e-06 ***\n",
       "---\n",
       "Signif. codes:  0 '***' 0.001 '**' 0.01 '*' 0.05 '.' 0.1 ' ' 1\n",
       "\n",
       "Residual standard error: 2.873 on 19 degrees of freedom\n",
       "Multiple R-squared:  0.6954,\tAdjusted R-squared:  0.6794 \n",
       "F-statistic: 43.39 on 1 and 19 DF,  p-value: 2.642e-06\n"
      ]
     },
     "metadata": {},
     "output_type": "display_data"
    }
   ],
   "source": [
    "# predict(reg,type=\"prediction\")\n",
    "# Adjusted R-squared value for the above model is 0.6655 \n",
    "\n",
    "# we may have to do transformation of variables for better R-squared value\n",
    "# Applying transformations\n",
    "\n",
    "# Logarthmic transformation\n",
    "reg_log<-lm(dt~log(st))  # Regression using logarthmic transformation\n",
    "summary(reg_log)"
   ]
  },
  {
   "cell_type": "code",
   "execution_count": 32,
   "metadata": {},
   "outputs": [
    {
     "data": {
      "text/html": [
       "<table>\n",
       "<thead><tr><th></th><th scope=col>2.5 %</th><th scope=col>97.5 %</th></tr></thead>\n",
       "<tbody>\n",
       "\t<tr><th scope=row>(Intercept)</th><td>-3.97778 </td><td> 6.297147</td></tr>\n",
       "\t<tr><th scope=row>log(st)</th><td> 6.16977 </td><td>11.917057</td></tr>\n",
       "</tbody>\n",
       "</table>\n"
      ],
      "text/latex": [
       "\\begin{tabular}{r|ll}\n",
       "  & 2.5 \\% & 97.5 \\%\\\\\n",
       "\\hline\n",
       "\t(Intercept) & -3.97778  &  6.297147\\\\\n",
       "\tlog(st) &  6.16977  & 11.917057\\\\\n",
       "\\end{tabular}\n"
      ],
      "text/markdown": [
       "\n",
       "| <!--/--> | 2.5 % | 97.5 % |\n",
       "|---|---|---|\n",
       "| (Intercept) | -3.97778  |  6.297147 |\n",
       "| log(st) |  6.16977  | 11.917057 |\n",
       "\n"
      ],
      "text/plain": [
       "            2.5 %    97.5 %   \n",
       "(Intercept) -3.97778  6.297147\n",
       "log(st)      6.16977 11.917057"
      ]
     },
     "metadata": {},
     "output_type": "display_data"
    }
   ],
   "source": [
    "confint(reg_log,level=0.95)"
   ]
  },
  {
   "cell_type": "code",
   "execution_count": 33,
   "metadata": {},
   "outputs": [
    {
     "name": "stderr",
     "output_type": "stream",
     "text": [
      "Warning message in predict.lm(reg_log, interval = \"predict\"):\n",
      "\"predictions on current data refer to _future_ responses\n",
      "\""
     ]
    },
    {
     "data": {
      "text/html": [
       "<table>\n",
       "<thead><tr><th scope=col>fit</th><th scope=col>lwr</th><th scope=col>upr</th></tr></thead>\n",
       "<tbody>\n",
       "\t<tr><td>21.98291  </td><td>15.6099875</td><td>28.35584  </td></tr>\n",
       "\t<tr><td>13.69652  </td><td> 7.4628028</td><td>19.93023  </td></tr>\n",
       "\t<tr><td>17.36331  </td><td>11.2049447</td><td>23.52167  </td></tr>\n",
       "\t<tr><td>21.03009  </td><td>14.7287585</td><td>27.33143  </td></tr>\n",
       "\t<tr><td>21.98291  </td><td>15.6099875</td><td>28.35584  </td></tr>\n",
       "\t<tr><td>17.36331  </td><td>11.2049447</td><td>23.52167  </td></tr>\n",
       "\t<tr><td>18.75735  </td><td>12.5700473</td><td>24.94466  </td></tr>\n",
       "\t<tr><td>11.09489  </td><td> 4.6786298</td><td>17.51115  </td></tr>\n",
       "\t<tr><td>21.98291  </td><td>15.6099875</td><td>28.35584  </td></tr>\n",
       "\t<tr><td>21.03009  </td><td>14.7287585</td><td>27.33143  </td></tr>\n",
       "\t<tr><td>19.96493  </td><td>13.7271824</td><td>26.20268  </td></tr>\n",
       "\t<tr><td>13.69652  </td><td> 7.4628028</td><td>19.93023  </td></tr>\n",
       "\t<tr><td>18.75735  </td><td>12.5700473</td><td>24.94466  </td></tr>\n",
       "\t<tr><td>11.09489  </td><td> 4.6786298</td><td>17.51115  </td></tr>\n",
       "\t<tr><td>11.09489  </td><td> 4.6786298</td><td>17.51115  </td></tr>\n",
       "\t<tr><td>13.69652  </td><td> 7.4628028</td><td>19.93023  </td></tr>\n",
       "\t<tr><td>17.36331  </td><td>11.2049447</td><td>23.52167  </td></tr>\n",
       "\t<tr><td>18.75735  </td><td>12.5700473</td><td>24.94466  </td></tr>\n",
       "\t<tr><td> 7.42810  </td><td> 0.5911537</td><td>14.26505  </td></tr>\n",
       "\t<tr><td>18.75735  </td><td>12.5700473</td><td>24.94466  </td></tr>\n",
       "\t<tr><td>15.71450  </td><td> 9.5493253</td><td>21.87967  </td></tr>\n",
       "</tbody>\n",
       "</table>\n"
      ],
      "text/latex": [
       "\\begin{tabular}{r|lll}\n",
       " fit & lwr & upr\\\\\n",
       "\\hline\n",
       "\t 21.98291   & 15.6099875 & 28.35584  \\\\\n",
       "\t 13.69652   &  7.4628028 & 19.93023  \\\\\n",
       "\t 17.36331   & 11.2049447 & 23.52167  \\\\\n",
       "\t 21.03009   & 14.7287585 & 27.33143  \\\\\n",
       "\t 21.98291   & 15.6099875 & 28.35584  \\\\\n",
       "\t 17.36331   & 11.2049447 & 23.52167  \\\\\n",
       "\t 18.75735   & 12.5700473 & 24.94466  \\\\\n",
       "\t 11.09489   &  4.6786298 & 17.51115  \\\\\n",
       "\t 21.98291   & 15.6099875 & 28.35584  \\\\\n",
       "\t 21.03009   & 14.7287585 & 27.33143  \\\\\n",
       "\t 19.96493   & 13.7271824 & 26.20268  \\\\\n",
       "\t 13.69652   &  7.4628028 & 19.93023  \\\\\n",
       "\t 18.75735   & 12.5700473 & 24.94466  \\\\\n",
       "\t 11.09489   &  4.6786298 & 17.51115  \\\\\n",
       "\t 11.09489   &  4.6786298 & 17.51115  \\\\\n",
       "\t 13.69652   &  7.4628028 & 19.93023  \\\\\n",
       "\t 17.36331   & 11.2049447 & 23.52167  \\\\\n",
       "\t 18.75735   & 12.5700473 & 24.94466  \\\\\n",
       "\t  7.42810   &  0.5911537 & 14.26505  \\\\\n",
       "\t 18.75735   & 12.5700473 & 24.94466  \\\\\n",
       "\t 15.71450   &  9.5493253 & 21.87967  \\\\\n",
       "\\end{tabular}\n"
      ],
      "text/markdown": [
       "\n",
       "| fit | lwr | upr |\n",
       "|---|---|---|\n",
       "| 21.98291   | 15.6099875 | 28.35584   |\n",
       "| 13.69652   |  7.4628028 | 19.93023   |\n",
       "| 17.36331   | 11.2049447 | 23.52167   |\n",
       "| 21.03009   | 14.7287585 | 27.33143   |\n",
       "| 21.98291   | 15.6099875 | 28.35584   |\n",
       "| 17.36331   | 11.2049447 | 23.52167   |\n",
       "| 18.75735   | 12.5700473 | 24.94466   |\n",
       "| 11.09489   |  4.6786298 | 17.51115   |\n",
       "| 21.98291   | 15.6099875 | 28.35584   |\n",
       "| 21.03009   | 14.7287585 | 27.33143   |\n",
       "| 19.96493   | 13.7271824 | 26.20268   |\n",
       "| 13.69652   |  7.4628028 | 19.93023   |\n",
       "| 18.75735   | 12.5700473 | 24.94466   |\n",
       "| 11.09489   |  4.6786298 | 17.51115   |\n",
       "| 11.09489   |  4.6786298 | 17.51115   |\n",
       "| 13.69652   |  7.4628028 | 19.93023   |\n",
       "| 17.36331   | 11.2049447 | 23.52167   |\n",
       "| 18.75735   | 12.5700473 | 24.94466   |\n",
       "|  7.42810   |  0.5911537 | 14.26505   |\n",
       "| 18.75735   | 12.5700473 | 24.94466   |\n",
       "| 15.71450   |  9.5493253 | 21.87967   |\n",
       "\n"
      ],
      "text/plain": [
       "   fit      lwr        upr     \n",
       "1  21.98291 15.6099875 28.35584\n",
       "2  13.69652  7.4628028 19.93023\n",
       "3  17.36331 11.2049447 23.52167\n",
       "4  21.03009 14.7287585 27.33143\n",
       "5  21.98291 15.6099875 28.35584\n",
       "6  17.36331 11.2049447 23.52167\n",
       "7  18.75735 12.5700473 24.94466\n",
       "8  11.09489  4.6786298 17.51115\n",
       "9  21.98291 15.6099875 28.35584\n",
       "10 21.03009 14.7287585 27.33143\n",
       "11 19.96493 13.7271824 26.20268\n",
       "12 13.69652  7.4628028 19.93023\n",
       "13 18.75735 12.5700473 24.94466\n",
       "14 11.09489  4.6786298 17.51115\n",
       "15 11.09489  4.6786298 17.51115\n",
       "16 13.69652  7.4628028 19.93023\n",
       "17 17.36331 11.2049447 23.52167\n",
       "18 18.75735 12.5700473 24.94466\n",
       "19  7.42810  0.5911537 14.26505\n",
       "20 18.75735 12.5700473 24.94466\n",
       "21 15.71450  9.5493253 21.87967"
      ]
     },
     "metadata": {},
     "output_type": "display_data"
    }
   ],
   "source": [
    "predict(reg_log,interval=\"predict\")"
   ]
  },
  {
   "cell_type": "code",
   "execution_count": 34,
   "metadata": {},
   "outputs": [
    {
     "data": {
      "text/plain": [
       "\n",
       "Call:\n",
       "lm(formula = log(dt) ~ st)\n",
       "\n",
       "Residuals:\n",
       "     Min       1Q   Median       3Q      Max \n",
       "-0.29209 -0.13364  0.02065  0.08421  0.41892 \n",
       "\n",
       "Coefficients:\n",
       "            Estimate Std. Error t value Pr(>|t|)    \n",
       "(Intercept)  2.12137    0.10297  20.601 1.86e-14 ***\n",
       "st           0.10555    0.01544   6.836 1.59e-06 ***\n",
       "---\n",
       "Signif. codes:  0 '***' 0.001 '**' 0.01 '*' 0.05 '.' 0.1 ' ' 1\n",
       "\n",
       "Residual standard error: 0.1755 on 19 degrees of freedom\n",
       "Multiple R-squared:  0.7109,\tAdjusted R-squared:  0.6957 \n",
       "F-statistic: 46.73 on 1 and 19 DF,  p-value: 1.593e-06\n"
      ]
     },
     "metadata": {},
     "output_type": "display_data"
    }
   ],
   "source": [
    "# Multiple R-squared value for the above model is 0.6954\n",
    "# Adjusted R-squared:  0.6794 \n",
    "\n",
    "# we may have to do different transformation for a better R-squared value\n",
    "# Applying different transformations\n",
    "\n",
    "# Exponential model \n",
    "reg_exp<-lm(log(dt)~st) # regression using Exponential model\n",
    "summary(reg_exp)\n"
   ]
  },
  {
   "cell_type": "code",
   "execution_count": 35,
   "metadata": {},
   "outputs": [
    {
     "data": {
      "text/html": [
       "<table>\n",
       "<thead><tr><th></th><th scope=col>2.5 %</th><th scope=col>97.5 %</th></tr></thead>\n",
       "<tbody>\n",
       "\t<tr><th scope=row>(Intercept)</th><td>1.90584807</td><td>2.3368956 </td></tr>\n",
       "\t<tr><th scope=row>st</th><td>0.07323457</td><td>0.1378686 </td></tr>\n",
       "</tbody>\n",
       "</table>\n"
      ],
      "text/latex": [
       "\\begin{tabular}{r|ll}\n",
       "  & 2.5 \\% & 97.5 \\%\\\\\n",
       "\\hline\n",
       "\t(Intercept) & 1.90584807 & 2.3368956 \\\\\n",
       "\tst & 0.07323457 & 0.1378686 \\\\\n",
       "\\end{tabular}\n"
      ],
      "text/markdown": [
       "\n",
       "| <!--/--> | 2.5 % | 97.5 % |\n",
       "|---|---|---|\n",
       "| (Intercept) | 1.90584807 | 2.3368956  |\n",
       "| st | 0.07323457 | 0.1378686  |\n",
       "\n"
      ],
      "text/plain": [
       "            2.5 %      97.5 %   \n",
       "(Intercept) 1.90584807 2.3368956\n",
       "st          0.07323457 0.1378686"
      ]
     },
     "metadata": {},
     "output_type": "display_data"
    }
   ],
   "source": [
    "confint(reg_exp,level=0.95)"
   ]
  },
  {
   "cell_type": "code",
   "execution_count": 36,
   "metadata": {},
   "outputs": [
    {
     "name": "stderr",
     "output_type": "stream",
     "text": [
      "Warning message in predict.lm(reg_exp, interval = \"predict\"):\n",
      "\"predictions on current data refer to _future_ responses\n",
      "\""
     ]
    },
    {
     "data": {
      "text/html": [
       "<table>\n",
       "<thead><tr><th scope=col>fit</th><th scope=col>lwr</th><th scope=col>upr</th></tr></thead>\n",
       "<tbody>\n",
       "\t<tr><td>23.97203 </td><td>16.138575</td><td>35.60775 </td></tr>\n",
       "\t<tr><td>12.72512 </td><td> 8.679275</td><td>18.65695 </td></tr>\n",
       "\t<tr><td>15.71603 </td><td>10.789743</td><td>22.89153 </td></tr>\n",
       "\t<tr><td>21.57071 </td><td>14.650800</td><td>31.75904 </td></tr>\n",
       "\t<tr><td>23.97203 </td><td>16.138575</td><td>35.60775 </td></tr>\n",
       "\t<tr><td>15.71603 </td><td>10.789743</td><td>22.89153 </td></tr>\n",
       "\t<tr><td>17.46560 </td><td>11.980604</td><td>25.46174 </td></tr>\n",
       "\t<tr><td>11.45042 </td><td> 7.753250</td><td>16.91061 </td></tr>\n",
       "\t<tr><td>23.97203 </td><td>16.138575</td><td>35.60775 </td></tr>\n",
       "\t<tr><td>21.57071 </td><td>14.650800</td><td>31.75904 </td></tr>\n",
       "\t<tr><td>19.40993 </td><td>13.266335</td><td>28.39859 </td></tr>\n",
       "\t<tr><td>12.72512 </td><td> 8.679275</td><td>18.65695 </td></tr>\n",
       "\t<tr><td>17.46560 </td><td>11.980604</td><td>25.46174 </td></tr>\n",
       "\t<tr><td>11.45042 </td><td> 7.753250</td><td>16.91061 </td></tr>\n",
       "\t<tr><td>11.45042 </td><td> 7.753250</td><td>16.91061 </td></tr>\n",
       "\t<tr><td>12.72512 </td><td> 8.679275</td><td>18.65695 </td></tr>\n",
       "\t<tr><td>15.71603 </td><td>10.789743</td><td>22.89153 </td></tr>\n",
       "\t<tr><td>17.46560 </td><td>11.980604</td><td>25.46174 </td></tr>\n",
       "\t<tr><td>10.30341 </td><td> 6.908812</td><td>15.36592 </td></tr>\n",
       "\t<tr><td>17.46560 </td><td>11.980604</td><td>25.46174 </td></tr>\n",
       "\t<tr><td>14.14173 </td><td> 9.690362</td><td>20.63787 </td></tr>\n",
       "</tbody>\n",
       "</table>\n"
      ],
      "text/latex": [
       "\\begin{tabular}{r|lll}\n",
       " fit & lwr & upr\\\\\n",
       "\\hline\n",
       "\t 23.97203  & 16.138575 & 35.60775 \\\\\n",
       "\t 12.72512  &  8.679275 & 18.65695 \\\\\n",
       "\t 15.71603  & 10.789743 & 22.89153 \\\\\n",
       "\t 21.57071  & 14.650800 & 31.75904 \\\\\n",
       "\t 23.97203  & 16.138575 & 35.60775 \\\\\n",
       "\t 15.71603  & 10.789743 & 22.89153 \\\\\n",
       "\t 17.46560  & 11.980604 & 25.46174 \\\\\n",
       "\t 11.45042  &  7.753250 & 16.91061 \\\\\n",
       "\t 23.97203  & 16.138575 & 35.60775 \\\\\n",
       "\t 21.57071  & 14.650800 & 31.75904 \\\\\n",
       "\t 19.40993  & 13.266335 & 28.39859 \\\\\n",
       "\t 12.72512  &  8.679275 & 18.65695 \\\\\n",
       "\t 17.46560  & 11.980604 & 25.46174 \\\\\n",
       "\t 11.45042  &  7.753250 & 16.91061 \\\\\n",
       "\t 11.45042  &  7.753250 & 16.91061 \\\\\n",
       "\t 12.72512  &  8.679275 & 18.65695 \\\\\n",
       "\t 15.71603  & 10.789743 & 22.89153 \\\\\n",
       "\t 17.46560  & 11.980604 & 25.46174 \\\\\n",
       "\t 10.30341  &  6.908812 & 15.36592 \\\\\n",
       "\t 17.46560  & 11.980604 & 25.46174 \\\\\n",
       "\t 14.14173  &  9.690362 & 20.63787 \\\\\n",
       "\\end{tabular}\n"
      ],
      "text/markdown": [
       "\n",
       "| fit | lwr | upr |\n",
       "|---|---|---|\n",
       "| 23.97203  | 16.138575 | 35.60775  |\n",
       "| 12.72512  |  8.679275 | 18.65695  |\n",
       "| 15.71603  | 10.789743 | 22.89153  |\n",
       "| 21.57071  | 14.650800 | 31.75904  |\n",
       "| 23.97203  | 16.138575 | 35.60775  |\n",
       "| 15.71603  | 10.789743 | 22.89153  |\n",
       "| 17.46560  | 11.980604 | 25.46174  |\n",
       "| 11.45042  |  7.753250 | 16.91061  |\n",
       "| 23.97203  | 16.138575 | 35.60775  |\n",
       "| 21.57071  | 14.650800 | 31.75904  |\n",
       "| 19.40993  | 13.266335 | 28.39859  |\n",
       "| 12.72512  |  8.679275 | 18.65695  |\n",
       "| 17.46560  | 11.980604 | 25.46174  |\n",
       "| 11.45042  |  7.753250 | 16.91061  |\n",
       "| 11.45042  |  7.753250 | 16.91061  |\n",
       "| 12.72512  |  8.679275 | 18.65695  |\n",
       "| 15.71603  | 10.789743 | 22.89153  |\n",
       "| 17.46560  | 11.980604 | 25.46174  |\n",
       "| 10.30341  |  6.908812 | 15.36592  |\n",
       "| 17.46560  | 11.980604 | 25.46174  |\n",
       "| 14.14173  |  9.690362 | 20.63787  |\n",
       "\n"
      ],
      "text/plain": [
       "   fit      lwr       upr     \n",
       "1  23.97203 16.138575 35.60775\n",
       "2  12.72512  8.679275 18.65695\n",
       "3  15.71603 10.789743 22.89153\n",
       "4  21.57071 14.650800 31.75904\n",
       "5  23.97203 16.138575 35.60775\n",
       "6  15.71603 10.789743 22.89153\n",
       "7  17.46560 11.980604 25.46174\n",
       "8  11.45042  7.753250 16.91061\n",
       "9  23.97203 16.138575 35.60775\n",
       "10 21.57071 14.650800 31.75904\n",
       "11 19.40993 13.266335 28.39859\n",
       "12 12.72512  8.679275 18.65695\n",
       "13 17.46560 11.980604 25.46174\n",
       "14 11.45042  7.753250 16.91061\n",
       "15 11.45042  7.753250 16.91061\n",
       "16 12.72512  8.679275 18.65695\n",
       "17 15.71603 10.789743 22.89153\n",
       "18 17.46560 11.980604 25.46174\n",
       "19 10.30341  6.908812 15.36592\n",
       "20 17.46560 11.980604 25.46174\n",
       "21 14.14173  9.690362 20.63787"
      ]
     },
     "metadata": {},
     "output_type": "display_data"
    }
   ],
   "source": [
    "exp(predict(reg_exp,interval=\"predict\"))"
   ]
  },
  {
   "cell_type": "code",
   "execution_count": 37,
   "metadata": {},
   "outputs": [
    {
     "data": {
      "text/plain": [
       "\n",
       "Call:\n",
       "lm(formula = dt ~ st + I(st^2), data = dt.st)\n",
       "\n",
       "Residuals:\n",
       "    Min      1Q  Median      3Q     Max \n",
       "-4.4324 -1.6951 -0.5365  0.9075  6.6676 \n",
       "\n",
       "Coefficients:\n",
       "            Estimate Std. Error t value Pr(>|t|)  \n",
       "(Intercept)   3.5222     4.1597   0.847   0.4082  \n",
       "st            2.8130     1.4608   1.926   0.0701 .\n",
       "I(st^2)      -0.0932     0.1151  -0.810   0.4286  \n",
       "---\n",
       "Signif. codes:  0 '***' 0.001 '**' 0.01 '*' 0.05 '.' 0.1 ' ' 1\n",
       "\n",
       "Residual standard error: 2.962 on 18 degrees of freedom\n",
       "Multiple R-squared:  0.6934,\tAdjusted R-squared:  0.6594 \n",
       "F-statistic: 20.36 on 2 and 18 DF,  p-value: 2.391e-05\n"
      ]
     },
     "metadata": {},
     "output_type": "display_data"
    }
   ],
   "source": [
    "# R-squared value - 0.7109\n",
    "# Adjusted R SQuare Value - 0.6957 \n",
    "# Higher the R-sqaured value - Better chances of getting good model \n",
    "# for Delivery Time and Sorting Time\n",
    "\n",
    "# Quadratic model\n",
    "dt.st[,\"st_sq\"] = st*st\n",
    "\n",
    "# Quadratic model\n",
    "quad_mod <- lm(dt~st+I(st^2),data=dt.st)\n",
    "summary(quad_mod)"
   ]
  },
  {
   "cell_type": "code",
   "execution_count": 38,
   "metadata": {},
   "outputs": [
    {
     "data": {
      "text/html": [
       "<table>\n",
       "<thead><tr><th></th><th scope=col>2.5 %</th><th scope=col>97.5 %</th></tr></thead>\n",
       "<tbody>\n",
       "\t<tr><th scope=row>(Intercept)</th><td>-5.2169258</td><td>12.2613936</td></tr>\n",
       "\t<tr><th scope=row>st</th><td>-0.2560669</td><td> 5.8820703</td></tr>\n",
       "\t<tr><th scope=row>I(st^2)</th><td>-0.3349939</td><td> 0.1485975</td></tr>\n",
       "</tbody>\n",
       "</table>\n"
      ],
      "text/latex": [
       "\\begin{tabular}{r|ll}\n",
       "  & 2.5 \\% & 97.5 \\%\\\\\n",
       "\\hline\n",
       "\t(Intercept) & -5.2169258 & 12.2613936\\\\\n",
       "\tst & -0.2560669 &  5.8820703\\\\\n",
       "\tI(st\\textasciicircum{}2) & -0.3349939 &  0.1485975\\\\\n",
       "\\end{tabular}\n"
      ],
      "text/markdown": [
       "\n",
       "| <!--/--> | 2.5 % | 97.5 % |\n",
       "|---|---|---|\n",
       "| (Intercept) | -5.2169258 | 12.2613936 |\n",
       "| st | -0.2560669 |  5.8820703 |\n",
       "| I(st^2) | -0.3349939 |  0.1485975 |\n",
       "\n"
      ],
      "text/plain": [
       "            2.5 %      97.5 %    \n",
       "(Intercept) -5.2169258 12.2613936\n",
       "st          -0.2560669  5.8820703\n",
       "I(st^2)     -0.3349939  0.1485975"
      ]
     },
     "metadata": {},
     "output_type": "display_data"
    }
   ],
   "source": [
    "confint(quad_mod,level=0.95)"
   ]
  },
  {
   "cell_type": "code",
   "execution_count": 39,
   "metadata": {},
   "outputs": [
    {
     "name": "stderr",
     "output_type": "stream",
     "text": [
      "Warning message in predict.lm(quad_mod, interval = \"predict\"):\n",
      "\"predictions on current data refer to _future_ responses\n",
      "\""
     ]
    },
    {
     "data": {
      "text/html": [
       "<table>\n",
       "<thead><tr><th scope=col>fit</th><th scope=col>lwr</th><th scope=col>upr</th></tr></thead>\n",
       "<tbody>\n",
       "\t<tr><td>22.332430</td><td>15.360768</td><td>29.30409 </td></tr>\n",
       "\t<tr><td>13.283069</td><td> 6.796484</td><td>19.76965 </td></tr>\n",
       "\t<tr><td>17.045108</td><td>10.506802</td><td>23.58341 </td></tr>\n",
       "\t<tr><td>21.290194</td><td>14.728917</td><td>27.85147 </td></tr>\n",
       "\t<tr><td>22.332430</td><td>15.360768</td><td>29.30409 </td></tr>\n",
       "\t<tr><td>17.045108</td><td>10.506802</td><td>23.58341 </td></tr>\n",
       "\t<tr><td>18.646533</td><td>12.120732</td><td>25.17233 </td></tr>\n",
       "\t<tr><td>11.122455</td><td> 4.434281</td><td>17.81063 </td></tr>\n",
       "\t<tr><td>22.332430</td><td>15.360768</td><td>29.30409 </td></tr>\n",
       "\t<tr><td>21.290194</td><td>14.728917</td><td>27.85147 </td></tr>\n",
       "\t<tr><td>20.061562</td><td>13.573170</td><td>26.54995 </td></tr>\n",
       "\t<tr><td>13.283069</td><td> 6.796484</td><td>19.76965 </td></tr>\n",
       "\t<tr><td>18.646533</td><td>12.120732</td><td>25.17233 </td></tr>\n",
       "\t<tr><td>11.122455</td><td> 4.434281</td><td>17.81063 </td></tr>\n",
       "\t<tr><td>11.122455</td><td> 4.434281</td><td>17.81063 </td></tr>\n",
       "\t<tr><td>13.283069</td><td> 6.796484</td><td>19.76965 </td></tr>\n",
       "\t<tr><td>17.045108</td><td>10.506802</td><td>23.58341 </td></tr>\n",
       "\t<tr><td>18.646533</td><td>12.120732</td><td>25.17233 </td></tr>\n",
       "\t<tr><td> 8.775444</td><td> 1.423580</td><td>16.12731 </td></tr>\n",
       "\t<tr><td>18.646533</td><td>12.120732</td><td>25.17233 </td></tr>\n",
       "\t<tr><td>15.257287</td><td> 8.758744</td><td>21.75583 </td></tr>\n",
       "</tbody>\n",
       "</table>\n"
      ],
      "text/latex": [
       "\\begin{tabular}{r|lll}\n",
       " fit & lwr & upr\\\\\n",
       "\\hline\n",
       "\t 22.332430 & 15.360768 & 29.30409 \\\\\n",
       "\t 13.283069 &  6.796484 & 19.76965 \\\\\n",
       "\t 17.045108 & 10.506802 & 23.58341 \\\\\n",
       "\t 21.290194 & 14.728917 & 27.85147 \\\\\n",
       "\t 22.332430 & 15.360768 & 29.30409 \\\\\n",
       "\t 17.045108 & 10.506802 & 23.58341 \\\\\n",
       "\t 18.646533 & 12.120732 & 25.17233 \\\\\n",
       "\t 11.122455 &  4.434281 & 17.81063 \\\\\n",
       "\t 22.332430 & 15.360768 & 29.30409 \\\\\n",
       "\t 21.290194 & 14.728917 & 27.85147 \\\\\n",
       "\t 20.061562 & 13.573170 & 26.54995 \\\\\n",
       "\t 13.283069 &  6.796484 & 19.76965 \\\\\n",
       "\t 18.646533 & 12.120732 & 25.17233 \\\\\n",
       "\t 11.122455 &  4.434281 & 17.81063 \\\\\n",
       "\t 11.122455 &  4.434281 & 17.81063 \\\\\n",
       "\t 13.283069 &  6.796484 & 19.76965 \\\\\n",
       "\t 17.045108 & 10.506802 & 23.58341 \\\\\n",
       "\t 18.646533 & 12.120732 & 25.17233 \\\\\n",
       "\t  8.775444 &  1.423580 & 16.12731 \\\\\n",
       "\t 18.646533 & 12.120732 & 25.17233 \\\\\n",
       "\t 15.257287 &  8.758744 & 21.75583 \\\\\n",
       "\\end{tabular}\n"
      ],
      "text/markdown": [
       "\n",
       "| fit | lwr | upr |\n",
       "|---|---|---|\n",
       "| 22.332430 | 15.360768 | 29.30409  |\n",
       "| 13.283069 |  6.796484 | 19.76965  |\n",
       "| 17.045108 | 10.506802 | 23.58341  |\n",
       "| 21.290194 | 14.728917 | 27.85147  |\n",
       "| 22.332430 | 15.360768 | 29.30409  |\n",
       "| 17.045108 | 10.506802 | 23.58341  |\n",
       "| 18.646533 | 12.120732 | 25.17233  |\n",
       "| 11.122455 |  4.434281 | 17.81063  |\n",
       "| 22.332430 | 15.360768 | 29.30409  |\n",
       "| 21.290194 | 14.728917 | 27.85147  |\n",
       "| 20.061562 | 13.573170 | 26.54995  |\n",
       "| 13.283069 |  6.796484 | 19.76965  |\n",
       "| 18.646533 | 12.120732 | 25.17233  |\n",
       "| 11.122455 |  4.434281 | 17.81063  |\n",
       "| 11.122455 |  4.434281 | 17.81063  |\n",
       "| 13.283069 |  6.796484 | 19.76965  |\n",
       "| 17.045108 | 10.506802 | 23.58341  |\n",
       "| 18.646533 | 12.120732 | 25.17233  |\n",
       "|  8.775444 |  1.423580 | 16.12731  |\n",
       "| 18.646533 | 12.120732 | 25.17233  |\n",
       "| 15.257287 |  8.758744 | 21.75583  |\n",
       "\n"
      ],
      "text/plain": [
       "   fit       lwr       upr     \n",
       "1  22.332430 15.360768 29.30409\n",
       "2  13.283069  6.796484 19.76965\n",
       "3  17.045108 10.506802 23.58341\n",
       "4  21.290194 14.728917 27.85147\n",
       "5  22.332430 15.360768 29.30409\n",
       "6  17.045108 10.506802 23.58341\n",
       "7  18.646533 12.120732 25.17233\n",
       "8  11.122455  4.434281 17.81063\n",
       "9  22.332430 15.360768 29.30409\n",
       "10 21.290194 14.728917 27.85147\n",
       "11 20.061562 13.573170 26.54995\n",
       "12 13.283069  6.796484 19.76965\n",
       "13 18.646533 12.120732 25.17233\n",
       "14 11.122455  4.434281 17.81063\n",
       "15 11.122455  4.434281 17.81063\n",
       "16 13.283069  6.796484 19.76965\n",
       "17 17.045108 10.506802 23.58341\n",
       "18 18.646533 12.120732 25.17233\n",
       "19  8.775444  1.423580 16.12731\n",
       "20 18.646533 12.120732 25.17233\n",
       "21 15.257287  8.758744 21.75583"
      ]
     },
     "metadata": {},
     "output_type": "display_data"
    }
   ],
   "source": [
    "predict(quad_mod,interval=\"predict\")"
   ]
  },
  {
   "cell_type": "code",
   "execution_count": 40,
   "metadata": {},
   "outputs": [
    {
     "data": {
      "text/plain": [
       "\n",
       "Call:\n",
       "lm(formula = dt ~ st + st_sq, data = dt.st)\n",
       "\n",
       "Residuals:\n",
       "    Min      1Q  Median      3Q     Max \n",
       "-4.4324 -1.6951 -0.5365  0.9075  6.6676 \n",
       "\n",
       "Coefficients:\n",
       "            Estimate Std. Error t value Pr(>|t|)  \n",
       "(Intercept)   3.5222     4.1597   0.847   0.4082  \n",
       "st            2.8130     1.4608   1.926   0.0701 .\n",
       "st_sq        -0.0932     0.1151  -0.810   0.4286  \n",
       "---\n",
       "Signif. codes:  0 '***' 0.001 '**' 0.01 '*' 0.05 '.' 0.1 ' ' 1\n",
       "\n",
       "Residual standard error: 2.962 on 18 degrees of freedom\n",
       "Multiple R-squared:  0.6934,\tAdjusted R-squared:  0.6594 \n",
       "F-statistic: 20.36 on 2 and 18 DF,  p-value: 2.391e-05\n"
      ]
     },
     "metadata": {},
     "output_type": "display_data"
    }
   ],
   "source": [
    "# Adjusted R-Squared = 0.6594\n",
    "#Multiple R -Squared Value = 0.6934\n",
    "\n",
    "# Quadratic model\n",
    "qd_model <- lm(dt~st+st_sq,data=dt.st)\n",
    "summary(qd_model)"
   ]
  },
  {
   "cell_type": "code",
   "execution_count": 41,
   "metadata": {},
   "outputs": [
    {
     "data": {
      "text/html": [
       "<table>\n",
       "<thead><tr><th></th><th scope=col>2.5 %</th><th scope=col>97.5 %</th></tr></thead>\n",
       "<tbody>\n",
       "\t<tr><th scope=row>(Intercept)</th><td>-5.2169258</td><td>12.2613936</td></tr>\n",
       "\t<tr><th scope=row>st</th><td>-0.2560669</td><td> 5.8820703</td></tr>\n",
       "\t<tr><th scope=row>I(st^2)</th><td>-0.3349939</td><td> 0.1485975</td></tr>\n",
       "</tbody>\n",
       "</table>\n"
      ],
      "text/latex": [
       "\\begin{tabular}{r|ll}\n",
       "  & 2.5 \\% & 97.5 \\%\\\\\n",
       "\\hline\n",
       "\t(Intercept) & -5.2169258 & 12.2613936\\\\\n",
       "\tst & -0.2560669 &  5.8820703\\\\\n",
       "\tI(st\\textasciicircum{}2) & -0.3349939 &  0.1485975\\\\\n",
       "\\end{tabular}\n"
      ],
      "text/markdown": [
       "\n",
       "| <!--/--> | 2.5 % | 97.5 % |\n",
       "|---|---|---|\n",
       "| (Intercept) | -5.2169258 | 12.2613936 |\n",
       "| st | -0.2560669 |  5.8820703 |\n",
       "| I(st^2) | -0.3349939 |  0.1485975 |\n",
       "\n"
      ],
      "text/plain": [
       "            2.5 %      97.5 %    \n",
       "(Intercept) -5.2169258 12.2613936\n",
       "st          -0.2560669  5.8820703\n",
       "I(st^2)     -0.3349939  0.1485975"
      ]
     },
     "metadata": {},
     "output_type": "display_data"
    }
   ],
   "source": [
    "confint(quad_mod,level=0.95)"
   ]
  },
  {
   "cell_type": "code",
   "execution_count": 42,
   "metadata": {},
   "outputs": [
    {
     "name": "stderr",
     "output_type": "stream",
     "text": [
      "Warning message in predict.lm(quad_mod, interval = \"predict\"):\n",
      "\"predictions on current data refer to _future_ responses\n",
      "\""
     ]
    },
    {
     "data": {
      "text/html": [
       "<table>\n",
       "<thead><tr><th scope=col>fit</th><th scope=col>lwr</th><th scope=col>upr</th></tr></thead>\n",
       "<tbody>\n",
       "\t<tr><td>22.332430</td><td>15.360768</td><td>29.30409 </td></tr>\n",
       "\t<tr><td>13.283069</td><td> 6.796484</td><td>19.76965 </td></tr>\n",
       "\t<tr><td>17.045108</td><td>10.506802</td><td>23.58341 </td></tr>\n",
       "\t<tr><td>21.290194</td><td>14.728917</td><td>27.85147 </td></tr>\n",
       "\t<tr><td>22.332430</td><td>15.360768</td><td>29.30409 </td></tr>\n",
       "\t<tr><td>17.045108</td><td>10.506802</td><td>23.58341 </td></tr>\n",
       "\t<tr><td>18.646533</td><td>12.120732</td><td>25.17233 </td></tr>\n",
       "\t<tr><td>11.122455</td><td> 4.434281</td><td>17.81063 </td></tr>\n",
       "\t<tr><td>22.332430</td><td>15.360768</td><td>29.30409 </td></tr>\n",
       "\t<tr><td>21.290194</td><td>14.728917</td><td>27.85147 </td></tr>\n",
       "\t<tr><td>20.061562</td><td>13.573170</td><td>26.54995 </td></tr>\n",
       "\t<tr><td>13.283069</td><td> 6.796484</td><td>19.76965 </td></tr>\n",
       "\t<tr><td>18.646533</td><td>12.120732</td><td>25.17233 </td></tr>\n",
       "\t<tr><td>11.122455</td><td> 4.434281</td><td>17.81063 </td></tr>\n",
       "\t<tr><td>11.122455</td><td> 4.434281</td><td>17.81063 </td></tr>\n",
       "\t<tr><td>13.283069</td><td> 6.796484</td><td>19.76965 </td></tr>\n",
       "\t<tr><td>17.045108</td><td>10.506802</td><td>23.58341 </td></tr>\n",
       "\t<tr><td>18.646533</td><td>12.120732</td><td>25.17233 </td></tr>\n",
       "\t<tr><td> 8.775444</td><td> 1.423580</td><td>16.12731 </td></tr>\n",
       "\t<tr><td>18.646533</td><td>12.120732</td><td>25.17233 </td></tr>\n",
       "\t<tr><td>15.257287</td><td> 8.758744</td><td>21.75583 </td></tr>\n",
       "</tbody>\n",
       "</table>\n"
      ],
      "text/latex": [
       "\\begin{tabular}{r|lll}\n",
       " fit & lwr & upr\\\\\n",
       "\\hline\n",
       "\t 22.332430 & 15.360768 & 29.30409 \\\\\n",
       "\t 13.283069 &  6.796484 & 19.76965 \\\\\n",
       "\t 17.045108 & 10.506802 & 23.58341 \\\\\n",
       "\t 21.290194 & 14.728917 & 27.85147 \\\\\n",
       "\t 22.332430 & 15.360768 & 29.30409 \\\\\n",
       "\t 17.045108 & 10.506802 & 23.58341 \\\\\n",
       "\t 18.646533 & 12.120732 & 25.17233 \\\\\n",
       "\t 11.122455 &  4.434281 & 17.81063 \\\\\n",
       "\t 22.332430 & 15.360768 & 29.30409 \\\\\n",
       "\t 21.290194 & 14.728917 & 27.85147 \\\\\n",
       "\t 20.061562 & 13.573170 & 26.54995 \\\\\n",
       "\t 13.283069 &  6.796484 & 19.76965 \\\\\n",
       "\t 18.646533 & 12.120732 & 25.17233 \\\\\n",
       "\t 11.122455 &  4.434281 & 17.81063 \\\\\n",
       "\t 11.122455 &  4.434281 & 17.81063 \\\\\n",
       "\t 13.283069 &  6.796484 & 19.76965 \\\\\n",
       "\t 17.045108 & 10.506802 & 23.58341 \\\\\n",
       "\t 18.646533 & 12.120732 & 25.17233 \\\\\n",
       "\t  8.775444 &  1.423580 & 16.12731 \\\\\n",
       "\t 18.646533 & 12.120732 & 25.17233 \\\\\n",
       "\t 15.257287 &  8.758744 & 21.75583 \\\\\n",
       "\\end{tabular}\n"
      ],
      "text/markdown": [
       "\n",
       "| fit | lwr | upr |\n",
       "|---|---|---|\n",
       "| 22.332430 | 15.360768 | 29.30409  |\n",
       "| 13.283069 |  6.796484 | 19.76965  |\n",
       "| 17.045108 | 10.506802 | 23.58341  |\n",
       "| 21.290194 | 14.728917 | 27.85147  |\n",
       "| 22.332430 | 15.360768 | 29.30409  |\n",
       "| 17.045108 | 10.506802 | 23.58341  |\n",
       "| 18.646533 | 12.120732 | 25.17233  |\n",
       "| 11.122455 |  4.434281 | 17.81063  |\n",
       "| 22.332430 | 15.360768 | 29.30409  |\n",
       "| 21.290194 | 14.728917 | 27.85147  |\n",
       "| 20.061562 | 13.573170 | 26.54995  |\n",
       "| 13.283069 |  6.796484 | 19.76965  |\n",
       "| 18.646533 | 12.120732 | 25.17233  |\n",
       "| 11.122455 |  4.434281 | 17.81063  |\n",
       "| 11.122455 |  4.434281 | 17.81063  |\n",
       "| 13.283069 |  6.796484 | 19.76965  |\n",
       "| 17.045108 | 10.506802 | 23.58341  |\n",
       "| 18.646533 | 12.120732 | 25.17233  |\n",
       "|  8.775444 |  1.423580 | 16.12731  |\n",
       "| 18.646533 | 12.120732 | 25.17233  |\n",
       "| 15.257287 |  8.758744 | 21.75583  |\n",
       "\n"
      ],
      "text/plain": [
       "   fit       lwr       upr     \n",
       "1  22.332430 15.360768 29.30409\n",
       "2  13.283069  6.796484 19.76965\n",
       "3  17.045108 10.506802 23.58341\n",
       "4  21.290194 14.728917 27.85147\n",
       "5  22.332430 15.360768 29.30409\n",
       "6  17.045108 10.506802 23.58341\n",
       "7  18.646533 12.120732 25.17233\n",
       "8  11.122455  4.434281 17.81063\n",
       "9  22.332430 15.360768 29.30409\n",
       "10 21.290194 14.728917 27.85147\n",
       "11 20.061562 13.573170 26.54995\n",
       "12 13.283069  6.796484 19.76965\n",
       "13 18.646533 12.120732 25.17233\n",
       "14 11.122455  4.434281 17.81063\n",
       "15 11.122455  4.434281 17.81063\n",
       "16 13.283069  6.796484 19.76965\n",
       "17 17.045108 10.506802 23.58341\n",
       "18 18.646533 12.120732 25.17233\n",
       "19  8.775444  1.423580 16.12731\n",
       "20 18.646533 12.120732 25.17233\n",
       "21 15.257287  8.758744 21.75583"
      ]
     },
     "metadata": {},
     "output_type": "display_data"
    }
   ],
   "source": [
    "predict(quad_mod,interval=\"predict\")"
   ]
  },
  {
   "cell_type": "code",
   "execution_count": 43,
   "metadata": {},
   "outputs": [
    {
     "data": {
      "text/plain": [
       "\n",
       "Call:\n",
       "lm(formula = dt ~ st + I(st^2) + I(st^3), data = dt.st)\n",
       "\n",
       "Residuals:\n",
       "    Min      1Q  Median      3Q     Max \n",
       "-4.8972 -1.7972 -0.1601  0.8077  6.2028 \n",
       "\n",
       "Coefficients:\n",
       "            Estimate Std. Error t value Pr(>|t|)\n",
       "(Intercept) -4.15818   10.98653  -0.378    0.710\n",
       "st           7.50248    6.37003   1.178    0.255\n",
       "I(st^2)     -0.92525    1.10553  -0.837    0.414\n",
       "I(st^3)      0.04446    0.05874   0.757    0.460\n",
       "\n",
       "Residual standard error: 2.998 on 17 degrees of freedom\n",
       "Multiple R-squared:  0.7034,\tAdjusted R-squared:  0.6511 \n",
       "F-statistic: 13.44 on 3 and 17 DF,  p-value: 9.586e-05\n"
      ]
     },
     "metadata": {},
     "output_type": "display_data"
    }
   ],
   "source": [
    "# Adjusted R-Squared = 0.6594\n",
    "#Multiple R -Squared Value = 0.6934\n",
    "\n",
    "# Cubic model\n",
    "poly_mod <- lm(dt~st+I(st^2)+I(st^3),data=dt.st)\n",
    "summary(poly_mod) # 0.9811"
   ]
  },
  {
   "cell_type": "code",
   "execution_count": 44,
   "metadata": {},
   "outputs": [
    {
     "data": {
      "text/html": [
       "<table>\n",
       "<thead><tr><th></th><th scope=col>2.5 %</th><th scope=col>97.5 %</th></tr></thead>\n",
       "<tbody>\n",
       "\t<tr><th scope=row>(Intercept)</th><td>-27.33772564</td><td>19.0213717  </td></tr>\n",
       "\t<tr><th scope=row>st</th><td> -5.93710786</td><td>20.9420660  </td></tr>\n",
       "\t<tr><th scope=row>I(st^2)</th><td> -3.25771246</td><td> 1.4072034  </td></tr>\n",
       "\t<tr><th scope=row>I(st^3)</th><td> -0.07947156</td><td> 0.1683837  </td></tr>\n",
       "</tbody>\n",
       "</table>\n"
      ],
      "text/latex": [
       "\\begin{tabular}{r|ll}\n",
       "  & 2.5 \\% & 97.5 \\%\\\\\n",
       "\\hline\n",
       "\t(Intercept) & -27.33772564 & 19.0213717  \\\\\n",
       "\tst &  -5.93710786 & 20.9420660  \\\\\n",
       "\tI(st\\textasciicircum{}2) &  -3.25771246 &  1.4072034  \\\\\n",
       "\tI(st\\textasciicircum{}3) &  -0.07947156 &  0.1683837  \\\\\n",
       "\\end{tabular}\n"
      ],
      "text/markdown": [
       "\n",
       "| <!--/--> | 2.5 % | 97.5 % |\n",
       "|---|---|---|\n",
       "| (Intercept) | -27.33772564 | 19.0213717   |\n",
       "| st |  -5.93710786 | 20.9420660   |\n",
       "| I(st^2) |  -3.25771246 |  1.4072034   |\n",
       "| I(st^3) |  -0.07947156 |  0.1683837   |\n",
       "\n"
      ],
      "text/plain": [
       "            2.5 %        97.5 %    \n",
       "(Intercept) -27.33772564 19.0213717\n",
       "st           -5.93710786 20.9420660\n",
       "I(st^2)      -3.25771246  1.4072034\n",
       "I(st^3)      -0.07947156  0.1683837"
      ]
     },
     "metadata": {},
     "output_type": "display_data"
    }
   ],
   "source": [
    "confint(poly_mod,level=0.95)"
   ]
  },
  {
   "cell_type": "code",
   "execution_count": 45,
   "metadata": {},
   "outputs": [
    {
     "name": "stderr",
     "output_type": "stream",
     "text": [
      "Warning message in predict.lm(poly_mod, interval = \"predict\"):\n",
      "\"predictions on current data refer to _future_ responses\n",
      "\""
     ]
    },
    {
     "data": {
      "text/html": [
       "<table>\n",
       "<thead><tr><th scope=col>fit</th><th scope=col>lwr</th><th scope=col>upr</th></tr></thead>\n",
       "<tbody>\n",
       "\t<tr><td>22.797240 </td><td>15.5939839</td><td>30.00050  </td></tr>\n",
       "\t<tr><td>13.892856 </td><td> 7.0844910</td><td>20.70122  </td></tr>\n",
       "\t<tr><td>17.150048 </td><td>10.4982995</td><td>23.80180  </td></tr>\n",
       "\t<tr><td>20.827000 </td><td>14.0344853</td><td>27.61951  </td></tr>\n",
       "\t<tr><td>22.797240 </td><td>15.5939839</td><td>30.00050  </td></tr>\n",
       "\t<tr><td>17.150048 </td><td>10.4982995</td><td>23.80180  </td></tr>\n",
       "\t<tr><td>18.270140 </td><td>11.5550572</td><td>24.98522  </td></tr>\n",
       "\t<tr><td>11.222284 </td><td> 4.4189573</td><td>18.02561  </td></tr>\n",
       "\t<tr><td>22.797240 </td><td>15.5939839</td><td>30.00050  </td></tr>\n",
       "\t<tr><td>20.827000 </td><td>14.0344853</td><td>27.61951  </td></tr>\n",
       "\t<tr><td>19.406879 </td><td>12.5644227</td><td>26.24933  </td></tr>\n",
       "\t<tr><td>13.892856 </td><td> 7.0844910</td><td>20.70122  </td></tr>\n",
       "\t<tr><td>18.270140 </td><td>11.5550572</td><td>24.98522  </td></tr>\n",
       "\t<tr><td>11.222284 </td><td> 4.4189573</td><td>18.02561  </td></tr>\n",
       "\t<tr><td>11.222284 </td><td> 4.4189573</td><td>18.02561  </td></tr>\n",
       "\t<tr><td>13.892856 </td><td> 7.0844910</td><td>20.70122  </td></tr>\n",
       "\t<tr><td>17.150048 </td><td>10.4982995</td><td>23.80180  </td></tr>\n",
       "\t<tr><td>18.270140 </td><td>11.5550572</td><td>24.98522  </td></tr>\n",
       "\t<tr><td> 7.501412 </td><td>-0.7718603</td><td>15.77468  </td></tr>\n",
       "\t<tr><td>18.270140 </td><td>11.5550572</td><td>24.98522  </td></tr>\n",
       "\t<tr><td>15.779865 </td><td> 9.0162244</td><td>22.54351  </td></tr>\n",
       "</tbody>\n",
       "</table>\n"
      ],
      "text/latex": [
       "\\begin{tabular}{r|lll}\n",
       " fit & lwr & upr\\\\\n",
       "\\hline\n",
       "\t 22.797240  & 15.5939839 & 30.00050  \\\\\n",
       "\t 13.892856  &  7.0844910 & 20.70122  \\\\\n",
       "\t 17.150048  & 10.4982995 & 23.80180  \\\\\n",
       "\t 20.827000  & 14.0344853 & 27.61951  \\\\\n",
       "\t 22.797240  & 15.5939839 & 30.00050  \\\\\n",
       "\t 17.150048  & 10.4982995 & 23.80180  \\\\\n",
       "\t 18.270140  & 11.5550572 & 24.98522  \\\\\n",
       "\t 11.222284  &  4.4189573 & 18.02561  \\\\\n",
       "\t 22.797240  & 15.5939839 & 30.00050  \\\\\n",
       "\t 20.827000  & 14.0344853 & 27.61951  \\\\\n",
       "\t 19.406879  & 12.5644227 & 26.24933  \\\\\n",
       "\t 13.892856  &  7.0844910 & 20.70122  \\\\\n",
       "\t 18.270140  & 11.5550572 & 24.98522  \\\\\n",
       "\t 11.222284  &  4.4189573 & 18.02561  \\\\\n",
       "\t 11.222284  &  4.4189573 & 18.02561  \\\\\n",
       "\t 13.892856  &  7.0844910 & 20.70122  \\\\\n",
       "\t 17.150048  & 10.4982995 & 23.80180  \\\\\n",
       "\t 18.270140  & 11.5550572 & 24.98522  \\\\\n",
       "\t  7.501412  & -0.7718603 & 15.77468  \\\\\n",
       "\t 18.270140  & 11.5550572 & 24.98522  \\\\\n",
       "\t 15.779865  &  9.0162244 & 22.54351  \\\\\n",
       "\\end{tabular}\n"
      ],
      "text/markdown": [
       "\n",
       "| fit | lwr | upr |\n",
       "|---|---|---|\n",
       "| 22.797240  | 15.5939839 | 30.00050   |\n",
       "| 13.892856  |  7.0844910 | 20.70122   |\n",
       "| 17.150048  | 10.4982995 | 23.80180   |\n",
       "| 20.827000  | 14.0344853 | 27.61951   |\n",
       "| 22.797240  | 15.5939839 | 30.00050   |\n",
       "| 17.150048  | 10.4982995 | 23.80180   |\n",
       "| 18.270140  | 11.5550572 | 24.98522   |\n",
       "| 11.222284  |  4.4189573 | 18.02561   |\n",
       "| 22.797240  | 15.5939839 | 30.00050   |\n",
       "| 20.827000  | 14.0344853 | 27.61951   |\n",
       "| 19.406879  | 12.5644227 | 26.24933   |\n",
       "| 13.892856  |  7.0844910 | 20.70122   |\n",
       "| 18.270140  | 11.5550572 | 24.98522   |\n",
       "| 11.222284  |  4.4189573 | 18.02561   |\n",
       "| 11.222284  |  4.4189573 | 18.02561   |\n",
       "| 13.892856  |  7.0844910 | 20.70122   |\n",
       "| 17.150048  | 10.4982995 | 23.80180   |\n",
       "| 18.270140  | 11.5550572 | 24.98522   |\n",
       "|  7.501412  | -0.7718603 | 15.77468   |\n",
       "| 18.270140  | 11.5550572 | 24.98522   |\n",
       "| 15.779865  |  9.0162244 | 22.54351   |\n",
       "\n"
      ],
      "text/plain": [
       "   fit       lwr        upr     \n",
       "1  22.797240 15.5939839 30.00050\n",
       "2  13.892856  7.0844910 20.70122\n",
       "3  17.150048 10.4982995 23.80180\n",
       "4  20.827000 14.0344853 27.61951\n",
       "5  22.797240 15.5939839 30.00050\n",
       "6  17.150048 10.4982995 23.80180\n",
       "7  18.270140 11.5550572 24.98522\n",
       "8  11.222284  4.4189573 18.02561\n",
       "9  22.797240 15.5939839 30.00050\n",
       "10 20.827000 14.0344853 27.61951\n",
       "11 19.406879 12.5644227 26.24933\n",
       "12 13.892856  7.0844910 20.70122\n",
       "13 18.270140 11.5550572 24.98522\n",
       "14 11.222284  4.4189573 18.02561\n",
       "15 11.222284  4.4189573 18.02561\n",
       "16 13.892856  7.0844910 20.70122\n",
       "17 17.150048 10.4982995 23.80180\n",
       "18 18.270140 11.5550572 24.98522\n",
       "19  7.501412 -0.7718603 15.77468\n",
       "20 18.270140 11.5550572 24.98522\n",
       "21 15.779865  9.0162244 22.54351"
      ]
     },
     "metadata": {},
     "output_type": "display_data"
    }
   ],
   "source": [
    "predict(poly_mod,interval=\"predict\")"
   ]
  },
  {
   "cell_type": "code",
   "execution_count": 49,
   "metadata": {},
   "outputs": [
    {
     "data": {
      "text/html": [
       "<dl class=dl-horizontal>\n",
       "\t<dt>1</dt>\n",
       "\t\t<dd>23.9720324037421</dd>\n",
       "\t<dt>2</dt>\n",
       "\t\t<dd>12.7251232324325</dd>\n",
       "\t<dt>3</dt>\n",
       "\t\t<dd>15.71603364576</dd>\n",
       "\t<dt>4</dt>\n",
       "\t\t<dd>21.5707069895492</dd>\n",
       "\t<dt>5</dt>\n",
       "\t\t<dd>23.9720324037421</dd>\n",
       "\t<dt>6</dt>\n",
       "\t\t<dd>15.71603364576</dd>\n",
       "\t<dt>7</dt>\n",
       "\t\t<dd>17.4655966536928</dd>\n",
       "\t<dt>8</dt>\n",
       "\t\t<dd>11.4504227271885</dd>\n",
       "\t<dt>9</dt>\n",
       "\t\t<dd>23.9720324037421</dd>\n",
       "\t<dt>10</dt>\n",
       "\t\t<dd>21.5707069895492</dd>\n",
       "\t<dt>11</dt>\n",
       "\t\t<dd>19.4099270429968</dd>\n",
       "\t<dt>12</dt>\n",
       "\t\t<dd>12.7251232324325</dd>\n",
       "\t<dt>13</dt>\n",
       "\t\t<dd>17.4655966536928</dd>\n",
       "\t<dt>14</dt>\n",
       "\t\t<dd>11.4504227271885</dd>\n",
       "\t<dt>15</dt>\n",
       "\t\t<dd>11.4504227271885</dd>\n",
       "\t<dt>16</dt>\n",
       "\t\t<dd>12.7251232324325</dd>\n",
       "\t<dt>17</dt>\n",
       "\t\t<dd>15.71603364576</dd>\n",
       "\t<dt>18</dt>\n",
       "\t\t<dd>17.4655966536928</dd>\n",
       "\t<dt>19</dt>\n",
       "\t\t<dd>10.3034114669436</dd>\n",
       "\t<dt>20</dt>\n",
       "\t\t<dd>17.4655966536928</dd>\n",
       "\t<dt>21</dt>\n",
       "\t\t<dd>14.1417277893245</dd>\n",
       "</dl>\n"
      ],
      "text/latex": [
       "\\begin{description*}\n",
       "\\item[1] 23.9720324037421\n",
       "\\item[2] 12.7251232324325\n",
       "\\item[3] 15.71603364576\n",
       "\\item[4] 21.5707069895492\n",
       "\\item[5] 23.9720324037421\n",
       "\\item[6] 15.71603364576\n",
       "\\item[7] 17.4655966536928\n",
       "\\item[8] 11.4504227271885\n",
       "\\item[9] 23.9720324037421\n",
       "\\item[10] 21.5707069895492\n",
       "\\item[11] 19.4099270429968\n",
       "\\item[12] 12.7251232324325\n",
       "\\item[13] 17.4655966536928\n",
       "\\item[14] 11.4504227271885\n",
       "\\item[15] 11.4504227271885\n",
       "\\item[16] 12.7251232324325\n",
       "\\item[17] 15.71603364576\n",
       "\\item[18] 17.4655966536928\n",
       "\\item[19] 10.3034114669436\n",
       "\\item[20] 17.4655966536928\n",
       "\\item[21] 14.1417277893245\n",
       "\\end{description*}\n"
      ],
      "text/markdown": [
       "1\n",
       ":   23.97203240374212\n",
       ":   12.72512323243253\n",
       ":   15.716033645764\n",
       ":   21.57070698954925\n",
       ":   23.97203240374216\n",
       ":   15.716033645767\n",
       ":   17.46559665369288\n",
       ":   11.45042272718859\n",
       ":   23.972032403742110\n",
       ":   21.570706989549211\n",
       ":   19.409927042996812\n",
       ":   12.725123232432513\n",
       ":   17.465596653692814\n",
       ":   11.450422727188515\n",
       ":   11.450422727188516\n",
       ":   12.725123232432517\n",
       ":   15.7160336457618\n",
       ":   17.465596653692819\n",
       ":   10.303411466943620\n",
       ":   17.465596653692821\n",
       ":   14.1417277893245\n",
       "\n"
      ],
      "text/plain": [
       "       1        2        3        4        5        6        7        8 \n",
       "23.97203 12.72512 15.71603 21.57071 23.97203 15.71603 17.46560 11.45042 \n",
       "       9       10       11       12       13       14       15       16 \n",
       "23.97203 21.57071 19.40993 12.72512 17.46560 11.45042 11.45042 12.72512 \n",
       "      17       18       19       20       21 \n",
       "15.71603 17.46560 10.30341 17.46560 14.14173 "
      ]
     },
     "metadata": {},
     "output_type": "display_data"
    }
   ],
   "source": [
    "# Adjusted R-Squared = 0.6511\n",
    "#Multiple R -Squared Value = 0.7034\n",
    "\n",
    "model_R_Squared_values <- list(model=NULL,R_squared=NULL)\n",
    "model_R_Squared_values[[\"model\"]] <- c(\"reg\",\"reg_log\",\"reg_exp\",\"quad_mod\",\"poly_mod\")\n",
    "model_R_Squared_values[[\"R_squared\"]] <- c(0.6655,0.6794,0.6957,0.6594,0.6511)\n",
    "Final <- cbind(model_R_Squared_values[[\"model\"]],model_R_Squared_values[[\"R_squared\"]])\n",
    "\n",
    "\n",
    "# Exponential  model gives the best Adjusted R-Squared value\n",
    "predicted_Value <- exp(predict(reg_exp))\n",
    "predicted_Value"
   ]
  },
  {
   "cell_type": "code",
   "execution_count": 50,
   "metadata": {},
   "outputs": [
    {
     "data": {
      "text/html": [
       "2.9402503230562"
      ],
      "text/latex": [
       "2.9402503230562"
      ],
      "text/markdown": [
       "2.9402503230562"
      ],
      "text/plain": [
       "[1] 2.94025"
      ]
     },
     "metadata": {},
     "output_type": "display_data"
    }
   ],
   "source": [
    "Final <- cbind(Sorting_Time=dt.st$Sorting.Time ,Delivery_Time = dt.st$Delivery.Time,Predicted_Delivery_time=predicted_Value)\n",
    "\n",
    "\n",
    "rmse<-sqrt(mean((predicted_Value-dt)^2))\n",
    "rmse"
   ]
  },
  {
   "cell_type": "code",
   "execution_count": 51,
   "metadata": {},
   "outputs": [
    {
     "data": {
      "image/png": "[encoded data removed]",
      "text/plain": [
       "Plot with title \"\""
      ]
     },
     "metadata": {},
     "output_type": "display_data"
    },
    {
     "data": {
      "image/png": "[encoded data removed]",
      "text/plain": [
       "Plot with title \"\""
      ]
     },
     "metadata": {},
     "output_type": "display_data"
    },
    {
     "data": {
      "image/png": "[encoded data removed]",
      "text/plain": [
       "Plot with title \"\""
      ]
     },
     "metadata": {},
     "output_type": "display_data"
    },
    {
     "data": {
      "image/png": "[encoded data removed]",
      "text/plain": [
       "Plot with title \"\""
      ]
     },
     "metadata": {},
     "output_type": "display_data"
    }
   ],
   "source": [
    "plot(reg_exp)"
   ]
  },
  {
   "cell_type": "code",
   "execution_count": 52,
   "metadata": {},
   "outputs": [
    {
     "data": {
      "image/png": "[encoded data removed]",
      "text/plain": [
       "Plot with title \"Histogram of residuals(reg_exp)\""
      ]
     },
     "metadata": {},
     "output_type": "display_data"
    }
   ],
   "source": [
    "hist(residuals(reg_exp)) # close to normal distribution"
   ]
  }
 ],
 "metadata": {
  "kernelspec": {
   "display_name": "R",
   "language": "R",
   "name": "ir"
  },
  "language_info": {
   "codemirror_mode": "r",
   "file_extension": ".r",
   "mimetype": "text/x-r-source",
   "name": "R",
   "pygments_lexer": "r",
   "version": "3.6.1"
  }
 },
 "nbformat": 4,
 "nbformat_minor": 4
}
