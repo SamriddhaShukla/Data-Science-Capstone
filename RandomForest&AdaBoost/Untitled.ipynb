{
 "cells": [
  {
   "cell_type": "code",
   "execution_count": 1,
   "metadata": {},
   "outputs": [
    {
     "ename": "ERROR",
     "evalue": "Error in library(needs): there is no package called 'needs'\n",
     "output_type": "error",
     "traceback": [
      "Error in library(needs): there is no package called 'needs'\nTraceback:\n",
      "1. library(needs)"
     ]
    }
   ],
   "source": [
    "library(needs)\n",
    "needs(ggplot2,\n",
    "      dplyr,\n",
    "      corrplot,\n",
    "      gridExtra,\n",
    "      rpart.plot,\n",
    "      e1071,\n",
    "      mice,\n",
    "      DMwR,\n",
    "      pROC,\n",
    "      caTools,\n",
    "      caret,\n",
    "      doMC)\n",
    "\n",
    "registerDoMC(cores = detectCores() - 1)"
   ]
  },
  {
   "cell_type": "code",
   "execution_count": 2,
   "metadata": {},
   "outputs": [
    {
     "name": "stderr",
     "output_type": "stream",
     "text": [
      "Installing package into 'C:/Users/samri/OneDrive/Documents/R/win-library/3.6'\n",
      "(as 'lib' is unspecified)\n",
      "Warning message:\n",
      "\"package 'DoMC' is not available (for R version 3.6.1)\""
     ]
    }
   ],
   "source": [
    "install.packages(\"DoMC\")"
   ]
  },
  {
   "cell_type": "code",
   "execution_count": 3,
   "metadata": {},
   "outputs": [
    {
     "name": "stderr",
     "output_type": "stream",
     "text": [
      "Installing package into 'C:/Users/samri/OneDrive/Documents/R/win-library/3.6'\n",
      "(as 'lib' is unspecified)\n",
      "also installing the dependencies 'bitops', 'caTools', 'gplots', 'abind', 'ROCR'\n",
      "\n"
     ]
    },
    {
     "name": "stdout",
     "output_type": "stream",
     "text": [
      "package 'bitops' successfully unpacked and MD5 sums checked\n",
      "package 'caTools' successfully unpacked and MD5 sums checked\n",
      "package 'gplots' successfully unpacked and MD5 sums checked\n",
      "package 'abind' successfully unpacked and MD5 sums checked\n",
      "package 'ROCR' successfully unpacked and MD5 sums checked\n",
      "package 'DMwR' successfully unpacked and MD5 sums checked\n",
      "\n",
      "The downloaded binary packages are in\n",
      "\tC:\\Users\\samri\\AppData\\Local\\Temp\\RtmpSO0heS\\downloaded_packages\n"
     ]
    }
   ],
   "source": [
    "install.packages(\"DMwR\")"
   ]
  },
  {
   "cell_type": "code",
   "execution_count": 4,
   "metadata": {},
   "outputs": [
    {
     "name": "stderr",
     "output_type": "stream",
     "text": [
      "Installing package into 'C:/Users/samri/OneDrive/Documents/R/win-library/3.6'\n",
      "(as 'lib' is unspecified)\n"
     ]
    },
    {
     "name": "stdout",
     "output_type": "stream",
     "text": [
      "package 'caTools' successfully unpacked and MD5 sums checked\n",
      "\n",
      "The downloaded binary packages are in\n",
      "\tC:\\Users\\samri\\AppData\\Local\\Temp\\RtmpSO0heS\\downloaded_packages\n"
     ]
    }
   ],
   "source": [
    "install.packages(\"caTools\")"
   ]
  },
  {
   "cell_type": "code",
   "execution_count": 5,
   "metadata": {},
   "outputs": [
    {
     "name": "stderr",
     "output_type": "stream",
     "text": [
      "Installing package into 'C:/Users/samri/OneDrive/Documents/R/win-library/3.6'\n",
      "(as 'lib' is unspecified)\n"
     ]
    },
    {
     "name": "stdout",
     "output_type": "stream",
     "text": [
      "package 'rpart.plot' successfully unpacked and MD5 sums checked\n",
      "\n",
      "The downloaded binary packages are in\n",
      "\tC:\\Users\\samri\\AppData\\Local\\Temp\\RtmpSO0heS\\downloaded_packages\n"
     ]
    }
   ],
   "source": [
    "install.packages(\"rpart.plot\")"
   ]
  },
  {
   "cell_type": "code",
   "execution_count": 6,
   "metadata": {},
   "outputs": [
    {
     "name": "stderr",
     "output_type": "stream",
     "text": [
      "Installing package into 'C:/Users/samri/OneDrive/Documents/R/win-library/3.6'\n",
      "(as 'lib' is unspecified)\n"
     ]
    },
    {
     "name": "stdout",
     "output_type": "stream",
     "text": [
      "package 'mice' successfully unpacked and MD5 sums checked\n",
      "\n",
      "The downloaded binary packages are in\n",
      "\tC:\\Users\\samri\\AppData\\Local\\Temp\\RtmpSO0heS\\downloaded_packages\n"
     ]
    },
    {
     "name": "stderr",
     "output_type": "stream",
     "text": [
      "Installing package into 'C:/Users/samri/OneDrive/Documents/R/win-library/3.6'\n",
      "(as 'lib' is unspecified)\n"
     ]
    },
    {
     "name": "stdout",
     "output_type": "stream",
     "text": [
      "package 'gridExtra' successfully unpacked and MD5 sums checked\n",
      "\n",
      "The downloaded binary packages are in\n",
      "\tC:\\Users\\samri\\AppData\\Local\\Temp\\RtmpSO0heS\\downloaded_packages\n"
     ]
    },
    {
     "name": "stderr",
     "output_type": "stream",
     "text": [
      "Installing package into 'C:/Users/samri/OneDrive/Documents/R/win-library/3.6'\n",
      "(as 'lib' is unspecified)\n"
     ]
    },
    {
     "name": "stdout",
     "output_type": "stream",
     "text": [
      "package 'corrplot' successfully unpacked and MD5 sums checked\n",
      "\n",
      "The downloaded binary packages are in\n",
      "\tC:\\Users\\samri\\AppData\\Local\\Temp\\RtmpSO0heS\\downloaded_packages\n"
     ]
    }
   ],
   "source": [
    "install.packages(\"mice\")\n",
    "install.packages(\"gridExtra\")\n",
    "install.packages(\"corrplot\")"
   ]
  },
  {
   "cell_type": "code",
   "execution_count": 8,
   "metadata": {},
   "outputs": [
    {
     "name": "stderr",
     "output_type": "stream",
     "text": [
      "Warning message:\n",
      "\"package 'gridExtra' was built under R version 3.6.3\"\n",
      "Attaching package: 'gridExtra'\n",
      "\n",
      "The following object is masked from 'package:dplyr':\n",
      "\n",
      "    combine\n",
      "\n",
      "Warning message:\n",
      "\"package 'rpart.plot' was built under R version 3.6.3\"Loading required package: rpart\n",
      "Warning message:\n",
      "\"package 'e1071' was built under R version 3.6.3\"Warning message:\n",
      "\"package 'mice' was built under R version 3.6.3\"\n",
      "Attaching package: 'mice'\n",
      "\n",
      "The following objects are masked from 'package:base':\n",
      "\n",
      "    cbind, rbind\n",
      "\n",
      "Warning message:\n",
      "\"package 'DMwR' was built under R version 3.6.3\"Loading required package: lattice\n",
      "Warning message:\n",
      "\"package 'lattice' was built under R version 3.6.3\"Loading required package: grid\n",
      "Registered S3 method overwritten by 'xts':\n",
      "  method     from\n",
      "  as.zoo.xts zoo \n",
      "Registered S3 method overwritten by 'quantmod':\n",
      "  method            from\n",
      "  as.zoo.data.frame zoo \n",
      "Warning message:\n",
      "\"package 'pROC' was built under R version 3.6.3\"Type 'citation(\"pROC\")' for a citation.\n",
      "\n",
      "Attaching package: 'pROC'\n",
      "\n",
      "The following objects are masked from 'package:stats':\n",
      "\n",
      "    cov, smooth, var\n",
      "\n",
      "Warning message:\n",
      "\"package 'caTools' was built under R version 3.6.3\"Warning message:\n",
      "\"package 'caret' was built under R version 3.6.3\"Loading required package: ggplot2\n",
      "Registered S3 methods overwritten by 'ggplot2':\n",
      "  method         from \n",
      "  [.quosures     rlang\n",
      "  c.quosures     rlang\n",
      "  print.quosures rlang\n"
     ]
    },
    {
     "ename": "ERROR",
     "evalue": "Error in library(doMC): there is no package called 'doMC'\n",
     "output_type": "error",
     "traceback": [
      "Error in library(doMC): there is no package called 'doMC'\nTraceback:\n",
      "1. library(doMC)"
     ]
    }
   ],
   "source": [
    "library(corrplot)\n",
    "library(dplyr)\n",
    "library(gridExtra)\n",
    "library(rpart.plot)\n",
    "library(e1071)\n",
    "library(mice)\n",
    "library(DMwR)\n",
    "library(pROC)\n",
    "library(caTools)\n",
    "library(caret)\n",
    "library(doMC)"
   ]
  },
  {
   "cell_type": "code",
   "execution_count": 9,
   "metadata": {},
   "outputs": [],
   "source": [
    "dat <- read.csv(\"Diabetes_RF.csv\")"
   ]
  },
  {
   "cell_type": "code",
   "execution_count": 10,
   "metadata": {},
   "outputs": [
    {
     "name": "stdout",
     "output_type": "stream",
     "text": [
      "'data.frame':\t768 obs. of  9 variables:\n",
      " $ Number.of.times.pregnant    : int  6 1 8 1 0 5 3 10 2 8 ...\n",
      " $ Plasma.glucose.concentration: int  148 85 183 89 137 116 78 115 197 125 ...\n",
      " $ Diastolic.blood.pressure    : int  72 66 64 66 40 74 50 0 70 96 ...\n",
      " $ Triceps.skin.fold.thickness : int  35 29 0 23 35 0 32 0 45 0 ...\n",
      " $ X2.Hour.serum.insulin       : int  0 0 0 94 168 0 88 0 543 0 ...\n",
      " $ Body.mass.index             : num  33.6 26.6 23.3 28.1 43.1 25.6 31 35.3 30.5 0 ...\n",
      " $ Diabetes.pedigree.function  : num  0.627 0.351 0.672 0.167 2.288 ...\n",
      " $ Age..years.                 : int  50 31 32 21 33 30 26 29 53 54 ...\n",
      " $ Class.variable              : Factor w/ 2 levels \"NO\",\"YES\": 2 1 2 1 2 1 2 1 2 2 ...\n"
     ]
    }
   ],
   "source": [
    "str(dat)"
   ]
  },
  {
   "cell_type": "code",
   "execution_count": 11,
   "metadata": {},
   "outputs": [
    {
     "ename": "ERROR",
     "evalue": "Error in `$<-.data.frame`(`*tmp*`, Outcome, value = structure(integer(0), .Label = character(0), class = \"factor\")): replacement has 0 rows, data has 768\n",
     "output_type": "error",
     "traceback": [
      "Error in `$<-.data.frame`(`*tmp*`, Outcome, value = structure(integer(0), .Label = character(0), class = \"factor\")): replacement has 0 rows, data has 768\nTraceback:\n",
      "1. `$<-`(`*tmp*`, Outcome, value = structure(integer(0), .Label = character(0), class = \"factor\"))",
      "2. `$<-.data.frame`(`*tmp*`, Outcome, value = structure(integer(0), .Label = character(0), class = \"factor\"))",
      "3. stop(sprintf(ngettext(N, \"replacement has %d row, data has %d\", \n .     \"replacement has %d rows, data has %d\"), N, nrows), domain = NA)"
     ]
    }
   ],
   "source": [
    "dat$Outcome <- factor(make.names(dat$Outcome))"
   ]
  },
  {
   "cell_type": "code",
   "execution_count": 13,
   "metadata": {},
   "outputs": [
    {
     "data": {
      "text/plain": [
       " Number.of.times.pregnant Plasma.glucose.concentration Diastolic.blood.pressure\n",
       " Min.   : 0.000           Min.   :  0.0                Min.   :  0.00          \n",
       " 1st Qu.: 1.000           1st Qu.: 99.0                1st Qu.: 62.00          \n",
       " Median : 3.000           Median :117.0                Median : 72.00          \n",
       " Mean   : 3.845           Mean   :120.9                Mean   : 69.11          \n",
       " 3rd Qu.: 6.000           3rd Qu.:140.2                3rd Qu.: 80.00          \n",
       " Max.   :17.000           Max.   :199.0                Max.   :122.00          \n",
       " Triceps.skin.fold.thickness X2.Hour.serum.insulin Body.mass.index\n",
       " Min.   : 0.00               Min.   :  0.0         Min.   : 0.00  \n",
       " 1st Qu.: 0.00               1st Qu.:  0.0         1st Qu.:27.30  \n",
       " Median :23.00               Median : 30.5         Median :32.00  \n",
       " Mean   :20.54               Mean   : 79.8         Mean   :31.99  \n",
       " 3rd Qu.:32.00               3rd Qu.:127.2         3rd Qu.:36.60  \n",
       " Max.   :99.00               Max.   :846.0         Max.   :67.10  \n",
       " Diabetes.pedigree.function  Age..years.    Class.variable\n",
       " Min.   :0.0780             Min.   :21.00   NO :500       \n",
       " 1st Qu.:0.2437             1st Qu.:24.00   YES:268       \n",
       " Median :0.3725             Median :29.00                 \n",
       " Mean   :0.4719             Mean   :33.24                 \n",
       " 3rd Qu.:0.6262             3rd Qu.:41.00                 \n",
       " Max.   :2.4200             Max.   :81.00                 "
      ]
     },
     "metadata": {},
     "output_type": "display_data"
    }
   ],
   "source": [
    "summary(dat)"
   ]
  },
  {
   "cell_type": "code",
   "execution_count": 14,
   "metadata": {},
   "outputs": [
    {
     "data": {
      "text/html": [
       "<dl class=dl-horizontal>\n",
       "\t<dt>Number.of.times.pregnant</dt>\n",
       "\t\t<dd>710</dd>\n",
       "\t<dt>Plasma.glucose.concentration</dt>\n",
       "\t\t<dd>197</dd>\n",
       "\t<dt>Diastolic.blood.pressure</dt>\n",
       "\t\t<dd>752</dd>\n",
       "\t<dt>Triceps.skin.fold.thickness</dt>\n",
       "\t\t<dd>231</dd>\n",
       "\t<dt>X2.Hour.serum.insulin</dt>\n",
       "\t\t<dd>518</dd>\n",
       "\t<dt>Body.mass.index</dt>\n",
       "\t\t<dd>11</dd>\n",
       "\t<dt>Diabetes.pedigree.function</dt>\n",
       "\t\t<dd>0</dd>\n",
       "\t<dt>Age..years.</dt>\n",
       "\t\t<dd>0</dd>\n",
       "\t<dt>Class.variable</dt>\n",
       "\t\t<dd>0</dd>\n",
       "</dl>\n"
      ],
      "text/latex": [
       "\\begin{description*}\n",
       "\\item[Number.of.times.pregnant] 710\n",
       "\\item[Plasma.glucose.concentration] 197\n",
       "\\item[Diastolic.blood.pressure] 752\n",
       "\\item[Triceps.skin.fold.thickness] 231\n",
       "\\item[X2.Hour.serum.insulin] 518\n",
       "\\item[Body.mass.index] 11\n",
       "\\item[Diabetes.pedigree.function] 0\n",
       "\\item[Age..years.] 0\n",
       "\\item[Class.variable] 0\n",
       "\\end{description*}\n"
      ],
      "text/markdown": [
       "Number.of.times.pregnant\n",
       ":   710Plasma.glucose.concentration\n",
       ":   197Diastolic.blood.pressure\n",
       ":   752Triceps.skin.fold.thickness\n",
       ":   231X2.Hour.serum.insulin\n",
       ":   518Body.mass.index\n",
       ":   11Diabetes.pedigree.function\n",
       ":   0Age..years.\n",
       ":   0Class.variable\n",
       ":   0\n",
       "\n"
      ],
      "text/plain": [
       "    Number.of.times.pregnant Plasma.glucose.concentration \n",
       "                         710                          197 \n",
       "    Diastolic.blood.pressure  Triceps.skin.fold.thickness \n",
       "                         752                          231 \n",
       "       X2.Hour.serum.insulin              Body.mass.index \n",
       "                         518                           11 \n",
       "  Diabetes.pedigree.function                  Age..years. \n",
       "                           0                            0 \n",
       "              Class.variable \n",
       "                           0 "
      ]
     },
     "metadata": {},
     "output_type": "display_data"
    }
   ],
   "source": [
    "biological_data <- dat[,setdiff(names(dat), c('Outcome', 'Pregnancies'))]\n",
    "features_miss_num <- apply(biological_data, 2, function(x) sum(x<=0))\n",
    "features_miss <- names(biological_data)[ features_miss_num > 0]\n",
    "features_miss_num"
   ]
  },
  {
   "cell_type": "code",
   "execution_count": 15,
   "metadata": {},
   "outputs": [
    {
     "data": {
      "text/html": [
       "745"
      ],
      "text/latex": [
       "745"
      ],
      "text/markdown": [
       "745"
      ],
      "text/plain": [
       "[1] 745"
      ]
     },
     "metadata": {},
     "output_type": "display_data"
    }
   ],
   "source": [
    "rows_errors <- apply(biological_data, 1, function(x) sum(x<=0)>1) \n",
    "sum(rows_errors)"
   ]
  },
  {
   "cell_type": "code",
   "execution_count": 16,
   "metadata": {},
   "outputs": [
    {
     "data": {
      "text/html": [
       "0.970052083333333"
      ],
      "text/latex": [
       "0.970052083333333"
      ],
      "text/markdown": [
       "0.970052083333333"
      ],
      "text/plain": [
       "[1] 0.9700521"
      ]
     },
     "metadata": {},
     "output_type": "display_data"
    }
   ],
   "source": [
    "sum(rows_errors)/nrow(dat)"
   ]
  },
  {
   "cell_type": "code",
   "execution_count": 17,
   "metadata": {},
   "outputs": [
    {
     "name": "stderr",
     "output_type": "stream",
     "text": [
      "Warning message in Ops.factor(left, right):\n",
      "\"'<=' not meaningful for factors\""
     ]
    }
   ],
   "source": [
    "biological_data[biological_data<=0] <- NA\n",
    "dat[, names(biological_data)] <- biological_data"
   ]
  },
  {
   "cell_type": "code",
   "execution_count": 19,
   "metadata": {},
   "outputs": [
    {
     "data": {
      "text/html": [],
      "text/latex": [],
      "text/markdown": [],
      "text/plain": [
       "numeric(0)"
      ]
     },
     "metadata": {},
     "output_type": "display_data"
    }
   ],
   "source": [
    "prop.table(table(dat$Outcome))\n"
   ]
  },
  {
   "cell_type": "code",
   "execution_count": 20,
   "metadata": {},
   "outputs": [
    {
     "ename": "ERROR",
     "evalue": "Error in cor(dat[, setdiff(names(dat), \"Outcome\")]): 'x' must be numeric\n",
     "output_type": "error",
     "traceback": [
      "Error in cor(dat[, setdiff(names(dat), \"Outcome\")]): 'x' must be numeric\nTraceback:\n",
      "1. cor(dat[, setdiff(names(dat), \"Outcome\")])",
      "2. stop(\"'x' must be numeric\")"
     ]
    }
   ],
   "source": [
    "correlat <- cor(dat[, setdiff(names(dat), 'Outcome')])"
   ]
  },
  {
   "cell_type": "code",
   "execution_count": 21,
   "metadata": {},
   "outputs": [
    {
     "name": "stderr",
     "output_type": "stream",
     "text": [
      "Warning message:\n",
      "\"Removed 111 rows containing non-finite values (stat_density).\""
     ]
    },
    {
     "ename": "ERROR",
     "evalue": "Error in `[.data.frame`(dat, , \"Outcome\"): undefined columns selected\n",
     "output_type": "error",
     "traceback": [
      "Error in `[.data.frame`(dat, , \"Outcome\"): undefined columns selected\nTraceback:\n",
      "1. univar_graph(names(dat)[x], dat[, x], dat, dat[, \"Outcome\"])",
      "2. grid.arrange(g_1, g_2, ncol = 2, top = paste(univar_name, \"variable\", \n .     \"/ [ Skew:\", skewness(univar), \"]\"))   # at line 4 of file <text>",
      "3. arrangeGrob(...)",
      "4. lapply(grobs[toconv], ggplot2::ggplotGrob)",
      "5. FUN(X[[i]], ...)",
      "6. ggplot_gtable(ggplot_build(x))",
      "7. ggplot_build(x)",
      "8. ggplot_build.ggplot(x)",
      "9. by_layer(function(l, d) l$compute_aesthetics(d, plot))",
      "10. f(l = layers[[i]], d = data[[i]])",
      "11. l$compute_aesthetics(d, plot)",
      "12. f(..., self = self)",
      "13. scales_add_defaults(plot$scales, data, aesthetics, plot$plot_env)",
      "14. lapply(aesthetics[new_aesthetics], rlang::eval_tidy, data = data)",
      "15. FUN(X[[i]], ...)",
      "16. dat[, \"Outcome\"]",
      "17. `[.data.frame`(dat, , \"Outcome\")",
      "18. stop(\"undefined columns selected\")"
     ]
    }
   ],
   "source": [
    "univar_graph <- function(univar_name, univar, data, output_var) {\n",
    "  g_1 <- ggplot(data, aes(x=univar)) + geom_density() + xlab(univar_name)\n",
    "  g_2 <- ggplot(data, aes(x=univar, fill=output_var)) + geom_density(alpha=0.4) + xlab(univar_name)\n",
    "  grid.arrange(g_1, g_2, ncol=2, top=paste(univar_name,\"variable\", \"/ [ Skew:\",skewness(univar),\"]\"))\n",
    "}\n",
    "\n",
    "for (x in 1:(ncol(dat)-1)) {\n",
    "  univar_graph(names(dat)[x], dat[,x], dat, dat[,'Outcome'])\n",
    "}"
   ]
  },
  {
   "cell_type": "code",
   "execution_count": null,
   "metadata": {},
   "outputs": [],
   "source": []
  }
 ],
 "metadata": {
  "kernelspec": {
   "display_name": "R",
   "language": "R",
   "name": "ir"
  },
  "language_info": {
   "codemirror_mode": "r",
   "file_extension": ".r",
   "mimetype": "text/x-r-source",
   "name": "R",
   "pygments_lexer": "r",
   "version": "3.6.1"
  }
 },
 "nbformat": 4,
 "nbformat_minor": 4
}
