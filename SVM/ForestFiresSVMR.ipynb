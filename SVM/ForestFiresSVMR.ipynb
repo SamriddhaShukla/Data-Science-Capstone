{
 "cells": [
  {
   "cell_type": "code",
   "execution_count": 1,
   "metadata": {},
   "outputs": [
    {
     "ename": "ERROR",
     "evalue": "Error in library(kernlab): there is no package called 'kernlab'\n",
     "output_type": "error",
     "traceback": [
      "Error in library(kernlab): there is no package called 'kernlab'\nTraceback:\n",
      "1. library(kernlab)"
     ]
    }
   ],
   "source": [
    "library(kernlab)"
   ]
  },
  {
   "cell_type": "code",
   "execution_count": 2,
   "metadata": {},
   "outputs": [
    {
     "name": "stderr",
     "output_type": "stream",
     "text": [
      "Installing package into 'C:/Users/samri/OneDrive/Documents/R/win-library/3.6'\n",
      "(as 'lib' is unspecified)\n"
     ]
    },
    {
     "name": "stdout",
     "output_type": "stream",
     "text": [
      "package 'kernlab' successfully unpacked and MD5 sums checked\n",
      "\n",
      "The downloaded binary packages are in\n",
      "\tC:\\Users\\samri\\AppData\\Local\\Temp\\RtmpkR0xhh\\downloaded_packages\n"
     ]
    }
   ],
   "source": [
    "install.packages(\"kernlab\",repos = \"http://cran.us.r-project.org\")"
   ]
  },
  {
   "cell_type": "code",
   "execution_count": 17,
   "metadata": {},
   "outputs": [
    {
     "name": "stderr",
     "output_type": "stream",
     "text": [
      "\n",
      "Attaching package: 'kernlab'\n",
      "\n",
      "The following object is masked from 'package:ggplot2':\n",
      "\n",
      "    alpha\n",
      "\n"
     ]
    }
   ],
   "source": [
    "library(kernlab)"
   ]
  },
  {
   "cell_type": "code",
   "execution_count": 7,
   "metadata": {},
   "outputs": [],
   "source": [
    "library(caret)"
   ]
  },
  {
   "cell_type": "code",
   "execution_count": 8,
   "metadata": {},
   "outputs": [],
   "source": [
    "library(plyr)"
   ]
  },
  {
   "cell_type": "code",
   "execution_count": 10,
   "metadata": {},
   "outputs": [],
   "source": [
    "# Read the data\n",
    "FF <- read.csv(file.choose())"
   ]
  },
  {
   "cell_type": "code",
   "execution_count": 11,
   "metadata": {},
   "outputs": [
    {
     "name": "stdout",
     "output_type": "stream",
     "text": [
      "'data.frame':\t517 obs. of  31 variables:\n",
      " $ month        : Factor w/ 12 levels \"apr\",\"aug\",\"dec\",..: 8 11 11 8 8 2 2 2 12 12 ...\n",
      " $ day          : Factor w/ 7 levels \"fri\",\"mon\",\"sat\",..: 1 6 3 1 4 4 2 2 6 3 ...\n",
      " $ FFMC         : num  86.2 90.6 90.6 91.7 89.3 92.3 92.3 91.5 91 92.5 ...\n",
      " $ DMC          : num  26.2 35.4 43.7 33.3 51.3 ...\n",
      " $ DC           : num  94.3 669.1 686.9 77.5 102.2 ...\n",
      " $ ISI          : num  5.1 6.7 6.7 9 9.6 14.7 8.5 10.7 7 7.1 ...\n",
      " $ temp         : num  8.2 18 14.6 8.3 11.4 22.2 24.1 8 13.1 22.8 ...\n",
      " $ RH           : int  51 33 33 97 99 29 27 86 63 40 ...\n",
      " $ wind         : num  6.7 0.9 1.3 4 1.8 5.4 3.1 2.2 5.4 4 ...\n",
      " $ rain         : num  0 0 0 0.2 0 0 0 0 0 0 ...\n",
      " $ area         : num  0 0 0 0 0 0 0 0 0 0 ...\n",
      " $ dayfri       : int  1 0 0 1 0 0 0 0 0 0 ...\n",
      " $ daymon       : int  0 0 0 0 0 0 1 1 0 0 ...\n",
      " $ daysat       : int  0 0 1 0 0 0 0 0 0 1 ...\n",
      " $ daysun       : int  0 0 0 0 1 1 0 0 0 0 ...\n",
      " $ daythu       : int  0 0 0 0 0 0 0 0 0 0 ...\n",
      " $ daytue       : int  0 1 0 0 0 0 0 0 1 0 ...\n",
      " $ daywed       : int  0 0 0 0 0 0 0 0 0 0 ...\n",
      " $ monthapr     : int  0 0 0 0 0 0 0 0 0 0 ...\n",
      " $ monthaug     : int  0 0 0 0 0 1 1 1 0 0 ...\n",
      " $ monthdec     : int  0 0 0 0 0 0 0 0 0 0 ...\n",
      " $ monthfeb     : int  0 0 0 0 0 0 0 0 0 0 ...\n",
      " $ monthjan     : int  0 0 0 0 0 0 0 0 0 0 ...\n",
      " $ monthjul     : int  0 0 0 0 0 0 0 0 0 0 ...\n",
      " $ monthjun     : int  0 0 0 0 0 0 0 0 0 0 ...\n",
      " $ monthmar     : int  1 0 0 1 1 0 0 0 0 0 ...\n",
      " $ monthmay     : int  0 0 0 0 0 0 0 0 0 0 ...\n",
      " $ monthnov     : int  0 0 0 0 0 0 0 0 0 0 ...\n",
      " $ monthoct     : int  0 1 1 0 0 0 0 0 0 0 ...\n",
      " $ monthsep     : int  0 0 0 0 0 0 0 0 1 1 ...\n",
      " $ size_category: Factor w/ 2 levels \"large\",\"small\": 2 2 2 2 2 2 2 2 2 2 ...\n"
     ]
    }
   ],
   "source": [
    "str(FF)"
   ]
  },
  {
   "cell_type": "code",
   "execution_count": 12,
   "metadata": {},
   "outputs": [
    {
     "data": {
      "image/png": "[encoded data removed]",
      "text/plain": [
       "Plot with title \"Histogram of FF$area\""
      ]
     },
     "metadata": {},
     "output_type": "display_data"
    }
   ],
   "source": [
    "# The area value has lots of zeros\n",
    "\n",
    "hist(FF$area)\n",
    "rug(FF$area)"
   ]
  },
  {
   "cell_type": "code",
   "execution_count": 13,
   "metadata": {},
   "outputs": [
    {
     "data": {
      "image/png": "[encoded data removed]",
      "text/plain": [
       "Plot with title \"Histogram of FF1$y\""
      ]
     },
     "metadata": {},
     "output_type": "display_data"
    }
   ],
   "source": [
    "# Transform the Area value to Y \n",
    "\n",
    "FF1 <- mutate(FF, y = log(area + 1))  # default is to the base e, y is lower case\n",
    "hist(FF1$y)\n"
   ]
  },
  {
   "cell_type": "code",
   "execution_count": 14,
   "metadata": {
    "scrolled": true
   },
   "outputs": [
    {
     "data": {
      "text/plain": [
       "     month      day          FFMC            DMC              DC       \n",
       " aug    :184   fri:85   Min.   :18.70   Min.   :  1.1   Min.   :  7.9  \n",
       " sep    :172   mon:74   1st Qu.:90.20   1st Qu.: 68.6   1st Qu.:437.7  \n",
       " mar    : 54   sat:84   Median :91.60   Median :108.3   Median :664.2  \n",
       " jul    : 32   sun:95   Mean   :90.64   Mean   :110.9   Mean   :547.9  \n",
       " feb    : 20   thu:61   3rd Qu.:92.90   3rd Qu.:142.4   3rd Qu.:713.9  \n",
       " jun    : 17   tue:64   Max.   :96.20   Max.   :291.3   Max.   :860.6  \n",
       " (Other): 38   wed:54                                                  \n",
       "      ISI              temp             RH              wind      \n",
       " Min.   : 0.000   Min.   : 2.20   Min.   : 15.00   Min.   :0.400  \n",
       " 1st Qu.: 6.500   1st Qu.:15.50   1st Qu.: 33.00   1st Qu.:2.700  \n",
       " Median : 8.400   Median :19.30   Median : 42.00   Median :4.000  \n",
       " Mean   : 9.022   Mean   :18.89   Mean   : 44.29   Mean   :4.018  \n",
       " 3rd Qu.:10.800   3rd Qu.:22.80   3rd Qu.: 53.00   3rd Qu.:4.900  \n",
       " Max.   :56.100   Max.   :33.30   Max.   :100.00   Max.   :9.400  \n",
       "                                                                  \n",
       "      rain              area             dayfri           daymon      \n",
       " Min.   :0.00000   Min.   :   0.00   Min.   :0.0000   Min.   :0.0000  \n",
       " 1st Qu.:0.00000   1st Qu.:   0.00   1st Qu.:0.0000   1st Qu.:0.0000  \n",
       " Median :0.00000   Median :   0.52   Median :0.0000   Median :0.0000  \n",
       " Mean   :0.02166   Mean   :  12.85   Mean   :0.1644   Mean   :0.1431  \n",
       " 3rd Qu.:0.00000   3rd Qu.:   6.57   3rd Qu.:0.0000   3rd Qu.:0.0000  \n",
       " Max.   :6.40000   Max.   :1090.84   Max.   :1.0000   Max.   :1.0000  \n",
       "                                                                      \n",
       "     daysat           daysun           daythu          daytue      \n",
       " Min.   :0.0000   Min.   :0.0000   Min.   :0.000   Min.   :0.0000  \n",
       " 1st Qu.:0.0000   1st Qu.:0.0000   1st Qu.:0.000   1st Qu.:0.0000  \n",
       " Median :0.0000   Median :0.0000   Median :0.000   Median :0.0000  \n",
       " Mean   :0.1625   Mean   :0.1838   Mean   :0.118   Mean   :0.1238  \n",
       " 3rd Qu.:0.0000   3rd Qu.:0.0000   3rd Qu.:0.000   3rd Qu.:0.0000  \n",
       " Max.   :1.0000   Max.   :1.0000   Max.   :1.000   Max.   :1.0000  \n",
       "                                                                   \n",
       "     daywed          monthapr          monthaug         monthdec      \n",
       " Min.   :0.0000   Min.   :0.00000   Min.   :0.0000   Min.   :0.00000  \n",
       " 1st Qu.:0.0000   1st Qu.:0.00000   1st Qu.:0.0000   1st Qu.:0.00000  \n",
       " Median :0.0000   Median :0.00000   Median :0.0000   Median :0.00000  \n",
       " Mean   :0.1044   Mean   :0.01741   Mean   :0.3559   Mean   :0.01741  \n",
       " 3rd Qu.:0.0000   3rd Qu.:0.00000   3rd Qu.:1.0000   3rd Qu.:0.00000  \n",
       " Max.   :1.0000   Max.   :1.00000   Max.   :1.0000   Max.   :1.00000  \n",
       "                                                                      \n",
       "    monthfeb          monthjan           monthjul         monthjun      \n",
       " Min.   :0.00000   Min.   :0.000000   Min.   :0.0000   Min.   :0.00000  \n",
       " 1st Qu.:0.00000   1st Qu.:0.000000   1st Qu.:0.0000   1st Qu.:0.00000  \n",
       " Median :0.00000   Median :0.000000   Median :0.0000   Median :0.00000  \n",
       " Mean   :0.03868   Mean   :0.003868   Mean   :0.0619   Mean   :0.03288  \n",
       " 3rd Qu.:0.00000   3rd Qu.:0.000000   3rd Qu.:0.0000   3rd Qu.:0.00000  \n",
       " Max.   :1.00000   Max.   :1.000000   Max.   :1.0000   Max.   :1.00000  \n",
       "                                                                        \n",
       "    monthmar         monthmay           monthnov           monthoct      \n",
       " Min.   :0.0000   Min.   :0.000000   Min.   :0.000000   Min.   :0.00000  \n",
       " 1st Qu.:0.0000   1st Qu.:0.000000   1st Qu.:0.000000   1st Qu.:0.00000  \n",
       " Median :0.0000   Median :0.000000   Median :0.000000   Median :0.00000  \n",
       " Mean   :0.1044   Mean   :0.003868   Mean   :0.001934   Mean   :0.02901  \n",
       " 3rd Qu.:0.0000   3rd Qu.:0.000000   3rd Qu.:0.000000   3rd Qu.:0.00000  \n",
       " Max.   :1.0000   Max.   :1.000000   Max.   :1.000000   Max.   :1.00000  \n",
       "                                                                         \n",
       "    monthsep      size_category\n",
       " Min.   :0.0000   large:139    \n",
       " 1st Qu.:0.0000   small:378    \n",
       " Median :0.0000                \n",
       " Mean   :0.3327                \n",
       " 3rd Qu.:1.0000                \n",
       " Max.   :1.0000                \n",
       "                               "
      ]
     },
     "metadata": {},
     "output_type": "display_data"
    }
   ],
   "source": [
    "summary(FF) # Confirms on the different scale and demands normalizing the data."
   ]
  },
  {
   "cell_type": "code",
   "execution_count": 15,
   "metadata": {},
   "outputs": [],
   "source": [
    "# Prediction of Forest fires requires only prediction from \n",
    "# temperature, rain, relative humidity and wind speed\n",
    "\n",
    "# Apply Normalization technique to the whole dataset :\n",
    "\n",
    "normalize<-function(x){\n",
    "  return ( (x-min(x))/(max(x)-min(x)))\n",
    "}\n",
    "FF$temp = normalize(FF$temp)\n",
    "FF$RH   = normalize(FF$RH)\n",
    "FF$wind = normalize(FF$wind)\n",
    "FF$rain = normalize(FF$rain)"
   ]
  },
  {
   "cell_type": "code",
   "execution_count": 18,
   "metadata": {},
   "outputs": [
    {
     "name": "stderr",
     "output_type": "stream",
     "text": [
      "The following objects are masked from FF (pos = 4):\n",
      "\n",
      "    area, day, dayfri, daymon, daysat, daysun, daythu, daytue, daywed,\n",
      "    DC, DMC, FFMC, ISI, month, monthapr, monthaug, monthdec, monthfeb,\n",
      "    monthjan, monthjul, monthjun, monthmar, monthmay, monthnov,\n",
      "    monthoct, monthsep, rain, RH, size_category, temp, wind\n",
      "\n"
     ]
    },
    {
     "name": "stdout",
     "output_type": "stream",
     "text": [
      " Setting default kernel parameters  \n"
     ]
    }
   ],
   "source": [
    "# We need to tweak this as a classification problem.lets base out the Size using this criteria :\n",
    "\n",
    "attach(FF)\n",
    "# Data Partition \n",
    "set.seed(123)\n",
    "ind <- sample(2, nrow(FF), replace = TRUE, prob = c(0.7,0.3))\n",
    "FF_train <- FF[ind==1,]\n",
    "FF_test  <- FF[ind==2,]\n",
    "# to train model\n",
    "# e1071 package from LIBSVM library\n",
    "# SVMlight algorithm klar package \n",
    "\n",
    "# kvsm() function uses gaussian RBF kernel \n",
    "\n",
    "# Building model \n",
    "\n",
    "\n",
    "model1<-ksvm(size_category~temp+rain+wind+RH, \n",
    "             data= FF_train,kernel = \"vanilladot\")"
   ]
  },
  {
   "cell_type": "code",
   "execution_count": 19,
   "metadata": {},
   "outputs": [
    {
     "data": {
      "text/plain": [
       "Support Vector Machine object of class \"ksvm\" \n",
       "\n",
       "SV type: C-svc  (classification) \n",
       " parameter : cost C = 1 \n",
       "\n",
       "Linear (vanilla) kernel function. \n",
       "\n",
       "Number of Support Vectors : 199 \n",
       "\n",
       "Objective Function Value : -184 \n",
       "Training error : 0.247978 "
      ]
     },
     "metadata": {},
     "output_type": "display_data"
    }
   ],
   "source": [
    "model1\n"
   ]
  },
  {
   "cell_type": "code",
   "execution_count": 20,
   "metadata": {},
   "outputs": [
    {
     "data": {
      "text/plain": [
       "         \n",
       "Area_pred large small\n",
       "    large     0     0\n",
       "    small    47    99"
      ]
     },
     "metadata": {},
     "output_type": "display_data"
    }
   ],
   "source": [
    "Area_pred <- predict(model1, FF_test)\n",
    "\n",
    "table(Area_pred,FF_test$size_category)"
   ]
  },
  {
   "cell_type": "code",
   "execution_count": 21,
   "metadata": {},
   "outputs": [
    {
     "data": {
      "text/plain": [
       "agreement\n",
       "FALSE  TRUE \n",
       "   47    99 "
      ]
     },
     "metadata": {},
     "output_type": "display_data"
    }
   ],
   "source": [
    "agreement <- Area_pred == FF_test$size_category\n",
    "table(agreement)"
   ]
  },
  {
   "cell_type": "code",
   "execution_count": 22,
   "metadata": {},
   "outputs": [
    {
     "data": {
      "text/plain": [
       "agreement\n",
       "    FALSE      TRUE \n",
       "0.3219178 0.6780822 "
      ]
     },
     "metadata": {},
     "output_type": "display_data"
    }
   ],
   "source": [
    "prop.table(table(agreement))"
   ]
  },
  {
   "cell_type": "code",
   "execution_count": 23,
   "metadata": {},
   "outputs": [
    {
     "data": {
      "text/html": [
       "0.684931506849315"
      ],
      "text/latex": [
       "0.684931506849315"
      ],
      "text/markdown": [
       "0.684931506849315"
      ],
      "text/plain": [
       "[1] 0.6849315"
      ]
     },
     "metadata": {},
     "output_type": "display_data"
    }
   ],
   "source": [
    "# Different types of kernels \n",
    "# \"rbfdot\", \"polydot\", \"tanhdot\", \"vanilladot\", \"laplacedot\", \n",
    "# \"besseldot\", \"anovadot\", \"splinedot\", \"matrix\"\n",
    "\n",
    "# kernel = rfdot \n",
    "model_rfdot<-ksvm(size_category~temp+rain+wind+RH, \n",
    "                  data= FF_train,kernel = \"rbfdot\")\n",
    "pred_rfdot<-predict(model_rfdot,newdata=FF_test)\n",
    "mean(pred_rfdot==FF_test$size_category) # 68.41"
   ]
  },
  {
   "cell_type": "code",
   "execution_count": 24,
   "metadata": {},
   "outputs": [
    {
     "name": "stdout",
     "output_type": "stream",
     "text": [
      " Setting default kernel parameters  \n"
     ]
    }
   ],
   "source": [
    "# kernel = vanilladot\n",
    "model_vanilla<-ksvm(size_category~temp+rain+wind+RH, \n",
    "                    data= FF_train,kernel = \"vanilladot\")"
   ]
  },
  {
   "cell_type": "code",
   "execution_count": 25,
   "metadata": {},
   "outputs": [
    {
     "data": {
      "text/html": [
       "0.678082191780822"
      ],
      "text/latex": [
       "0.678082191780822"
      ],
      "text/markdown": [
       "0.678082191780822"
      ],
      "text/plain": [
       "[1] 0.6780822"
      ]
     },
     "metadata": {},
     "output_type": "display_data"
    }
   ],
   "source": [
    "pred_vanilla<-predict(model_vanilla,newdata=FF_test)\n",
    "mean(pred_vanilla==FF_test$size_category) # 67.80"
   ]
  },
  {
   "cell_type": "code",
   "execution_count": 26,
   "metadata": {},
   "outputs": [
    {
     "name": "stdout",
     "output_type": "stream",
     "text": [
      " Setting default kernel parameters  \n"
     ]
    }
   ],
   "source": [
    "# kernal = besseldot\n",
    "model_besseldot<-ksvm(size_category~temp+rain+wind+RH, \n",
    "                      data= FF_train,kernel = \"besseldot\")"
   ]
  },
  {
   "cell_type": "code",
   "execution_count": 27,
   "metadata": {},
   "outputs": [
    {
     "data": {
      "text/html": [
       "0.678082191780822"
      ],
      "text/latex": [
       "0.678082191780822"
      ],
      "text/markdown": [
       "0.678082191780822"
      ],
      "text/plain": [
       "[1] 0.6780822"
      ]
     },
     "metadata": {},
     "output_type": "display_data"
    }
   ],
   "source": [
    "pred_bessel<-predict(model_besseldot,newdata=FF_test)\n",
    "mean(pred_bessel==FF_test$size_category) # 67.80"
   ]
  },
  {
   "cell_type": "code",
   "execution_count": 28,
   "metadata": {},
   "outputs": [
    {
     "name": "stdout",
     "output_type": "stream",
     "text": [
      " Setting default kernel parameters  \n"
     ]
    }
   ],
   "source": [
    "# kernel = polydot\n",
    "\n",
    "model_poly<-ksvm(size_category~temp+rain+wind+RH, \n",
    "                 data= FF_train,kernel = \"polydot\")"
   ]
  },
  {
   "cell_type": "code",
   "execution_count": 29,
   "metadata": {},
   "outputs": [
    {
     "data": {
      "text/html": [
       "0.678082191780822"
      ],
      "text/latex": [
       "0.678082191780822"
      ],
      "text/markdown": [
       "0.678082191780822"
      ],
      "text/plain": [
       "[1] 0.6780822"
      ]
     },
     "metadata": {},
     "output_type": "display_data"
    }
   ],
   "source": [
    "pred_poly<-predict(model_poly,newdata = FF_test)\n",
    "mean(pred_poly==FF_test$size_category) # 67.80"
   ]
  }
 ],
 "metadata": {
  "kernelspec": {
   "display_name": "R",
   "language": "R",
   "name": "ir"
  },
  "language_info": {
   "codemirror_mode": "r",
   "file_extension": ".r",
   "mimetype": "text/x-r-source",
   "name": "R",
   "pygments_lexer": "r",
   "version": "3.6.1"
  }
 },
 "nbformat": 4,
 "nbformat_minor": 4
}
