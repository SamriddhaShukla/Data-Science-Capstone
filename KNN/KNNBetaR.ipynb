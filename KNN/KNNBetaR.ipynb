{
 "cells": [
  {
   "cell_type": "code",
   "execution_count": 2,
   "metadata": {},
   "outputs": [
    {
     "name": "stderr",
     "output_type": "stream",
     "text": [
      "Installing package into 'C:/Users/samri/OneDrive/Documents/R/win-library/3.6'\n",
      "(as 'lib' is unspecified)\n"
     ]
    },
    {
     "name": "stdout",
     "output_type": "stream",
     "text": [
      "package 'pROC' successfully unpacked and MD5 sums checked\n"
     ]
    },
    {
     "name": "stderr",
     "output_type": "stream",
     "text": [
      "Warning message:\n",
      "\"cannot remove prior installation of package 'pROC'\"Warning message in file.copy(savedcopy, lib, recursive = TRUE):\n",
      "\"problem copying C:\\Users\\samri\\OneDrive\\Documents\\R\\win-library\\3.6\\00LOCK\\pROC\\libs\\x64\\pROC.dll to C:\\Users\\samri\\OneDrive\\Documents\\R\\win-library\\3.6\\pROC\\libs\\x64\\pROC.dll: Permission denied\"Warning message:\n",
      "\"restored 'pROC'\""
     ]
    },
    {
     "name": "stdout",
     "output_type": "stream",
     "text": [
      "\n",
      "The downloaded binary packages are in\n",
      "\tC:\\Users\\samri\\AppData\\Local\\Temp\\Rtmp6xyvfl\\downloaded_packages\n"
     ]
    },
    {
     "name": "stderr",
     "output_type": "stream",
     "text": [
      "Installing package into 'C:/Users/samri/OneDrive/Documents/R/win-library/3.6'\n",
      "(as 'lib' is unspecified)\n"
     ]
    },
    {
     "name": "stdout",
     "output_type": "stream",
     "text": [
      "package 'mlbench' successfully unpacked and MD5 sums checked\n",
      "\n",
      "The downloaded binary packages are in\n",
      "\tC:\\Users\\samri\\AppData\\Local\\Temp\\Rtmp6xyvfl\\downloaded_packages\n"
     ]
    },
    {
     "name": "stderr",
     "output_type": "stream",
     "text": [
      "Installing package into 'C:/Users/samri/OneDrive/Documents/R/win-library/3.6'\n",
      "(as 'lib' is unspecified)\n"
     ]
    },
    {
     "name": "stdout",
     "output_type": "stream",
     "text": [
      "package 'lattice' successfully unpacked and MD5 sums checked\n",
      "\n",
      "The downloaded binary packages are in\n",
      "\tC:\\Users\\samri\\AppData\\Local\\Temp\\Rtmp6xyvfl\\downloaded_packages\n"
     ]
    }
   ],
   "source": [
    "install.packages(\"pROC\")\n",
    "install.packages(\"mlbench\")\n",
    "install.packages(\"lattice\")"
   ]
  },
  {
   "cell_type": "code",
   "execution_count": 3,
   "metadata": {},
   "outputs": [
    {
     "name": "stderr",
     "output_type": "stream",
     "text": [
      "Warning message:\n",
      "\"package 'caret' was built under R version 3.6.3\"Loading required package: lattice\n",
      "Warning message:\n",
      "\"package 'lattice' was built under R version 3.6.3\"Loading required package: ggplot2\n",
      "Registered S3 methods overwritten by 'ggplot2':\n",
      "  method         from \n",
      "  [.quosures     rlang\n",
      "  c.quosures     rlang\n",
      "  print.quosures rlang\n",
      "Warning message:\n",
      "\"package 'pROC' was built under R version 3.6.3\"Type 'citation(\"pROC\")' for a citation.\n",
      "\n",
      "Attaching package: 'pROC'\n",
      "\n",
      "The following objects are masked from 'package:stats':\n",
      "\n",
      "    cov, smooth, var\n",
      "\n",
      "Warning message:\n",
      "\"package 'mlbench' was built under R version 3.6.3\""
     ]
    }
   ],
   "source": [
    "library(caret)\n",
    "library(pROC)\n",
    "library(mlbench)\n",
    "library(lattice)"
   ]
  },
  {
   "cell_type": "code",
   "execution_count": 4,
   "metadata": {},
   "outputs": [],
   "source": [
    "glass <- read.csv(file.choose())"
   ]
  },
  {
   "cell_type": "code",
   "execution_count": 5,
   "metadata": {},
   "outputs": [
    {
     "name": "stdout",
     "output_type": "stream",
     "text": [
      "'data.frame':\t214 obs. of  10 variables:\n",
      " $ RI  : num  1.52 1.52 1.52 1.52 1.52 ...\n",
      " $ Na  : num  13.6 13.9 13.5 13.2 13.3 ...\n",
      " $ Mg  : num  4.49 3.6 3.55 3.69 3.62 3.61 3.6 3.61 3.58 3.6 ...\n",
      " $ Al  : num  1.1 1.36 1.54 1.29 1.24 1.62 1.14 1.05 1.37 1.36 ...\n",
      " $ Si  : num  71.8 72.7 73 72.6 73.1 ...\n",
      " $ K   : num  0.06 0.48 0.39 0.57 0.55 0.64 0.58 0.57 0.56 0.57 ...\n",
      " $ Ca  : num  8.75 7.83 7.78 8.22 8.07 8.07 8.17 8.24 8.3 8.4 ...\n",
      " $ Ba  : num  0 0 0 0 0 0 0 0 0 0 ...\n",
      " $ Fe  : num  0 0 0 0 0 0.26 0 0 0 0.11 ...\n",
      " $ Type: chr  \"Type1\" \"Type1\" \"Type1\" \"Type1\" ...\n"
     ]
    }
   ],
   "source": [
    "glass$Type[glass$Type==1] <- 'Type1'\n",
    "glass$Type[glass$Type==2] <- 'Type2'\n",
    "glass$Type[glass$Type==3] <- 'Type3'\n",
    "glass$Type[glass$Type==4] <- 'Type4'\n",
    "glass$Type[glass$Type==5] <- 'Type5'\n",
    "glass$Type[glass$Type==6] <- 'Type6'\n",
    "glass$Type[glass$Type==7] <- 'Type7'\n",
    "str(glass)"
   ]
  },
  {
   "cell_type": "code",
   "execution_count": 7,
   "metadata": {},
   "outputs": [],
   "source": [
    "glass$Type <- as.factor(glass$Type) # Factorize the Type in Glass dataset"
   ]
  },
  {
   "cell_type": "code",
   "execution_count": 8,
   "metadata": {},
   "outputs": [],
   "source": [
    "# Data partition\n",
    "set.seed(123)\n",
    "ind <- sample(2,nrow(glass), replace = T, prob = c(0.7,0.3))\n",
    "train <- glass[ind==1,]\n",
    "test <- glass[ind==2,]"
   ]
  },
  {
   "cell_type": "code",
   "execution_count": 9,
   "metadata": {},
   "outputs": [],
   "source": [
    "# KNN Model \n",
    "\n",
    "trcontrol <- trainControl(method = \"repeatedcv\", number = 10,repeats = 3)\n",
    "set.seed(222)\n",
    "fit <- train(Type ~., data = train, method = 'knn', tuneLength = 20,\n",
    "              trControl = trcontrol, preProc = c(\"center\",\"scale\"))\n",
    "    # default metric is accuracy but if u want to use ROC, then mention the same"
   ]
  },
  {
   "cell_type": "code",
   "execution_count": 10,
   "metadata": {},
   "outputs": [
    {
     "data": {
      "text/plain": [
       "k-Nearest Neighbors \n",
       "\n",
       "157 samples\n",
       "  9 predictor\n",
       "  6 classes: 'Type1', 'Type2', 'Type3', 'Type5', 'Type6', 'Type7' \n",
       "\n",
       "Pre-processing: centered (9), scaled (9) \n",
       "Resampling: Cross-Validated (10 fold, repeated 3 times) \n",
       "Summary of sample sizes: 142, 141, 143, 143, 140, 141, ... \n",
       "Resampling results across tuning parameters:\n",
       "\n",
       "  k   Accuracy   Kappa    \n",
       "   5  0.6536204  0.5209197\n",
       "   7  0.6283590  0.4797558\n",
       "   9  0.6294608  0.4806966\n",
       "  11  0.6329097  0.4833553\n",
       "  13  0.6375455  0.4862948\n",
       "  15  0.6322584  0.4776483\n",
       "  17  0.6385808  0.4848511\n",
       "  19  0.6376482  0.4832760\n",
       "  21  0.6194246  0.4552343\n",
       "  23  0.6097619  0.4397916\n",
       "  25  0.6053303  0.4338411\n",
       "  27  0.5994841  0.4249243\n",
       "  29  0.6047887  0.4323804\n",
       "  31  0.6072724  0.4357811\n",
       "  33  0.5921837  0.4137368\n",
       "  35  0.5918686  0.4140878\n",
       "  37  0.5696545  0.3825845\n",
       "  39  0.5584839  0.3658658\n",
       "  41  0.5450619  0.3455521\n",
       "  43  0.5262430  0.3172603\n",
       "\n",
       "Accuracy was used to select the optimal model using the largest value.\n",
       "The final value used for the model was k = 5."
      ]
     },
     "metadata": {},
     "output_type": "display_data"
    }
   ],
   "source": [
    "# Model Performance :\n",
    "fit # the optimum value for k should be 9"
   ]
  },
  {
   "cell_type": "code",
   "execution_count": 11,
   "metadata": {},
   "outputs": [
    {
     "data": {
      "image/png": "[encoded data removed]",
      "text/plain": [
       "plot without title"
      ]
     },
     "metadata": {},
     "output_type": "display_data"
    }
   ],
   "source": [
    "plot(fit)"
   ]
  },
  {
   "cell_type": "code",
   "execution_count": 12,
   "metadata": {},
   "outputs": [
    {
     "data": {
      "text/plain": [
       "ROC curve variable importance\n",
       "\n",
       "  variables are sorted by maximum importance across the classes\n",
       "   Type1   Type2  Type3 Type5  Type6   Type7\n",
       "Mg 21.97 100.000 100.00 98.10 21.966 100.000\n",
       "Al 48.35  98.249  48.35 95.72 48.349  98.249\n",
       "K  22.84  24.712  97.81 58.51 36.076  24.712\n",
       "Ba  0.00  12.018   0.00 93.53  0.000  12.018\n",
       "Na 30.55  26.244  84.68 87.44 44.353  30.548\n",
       "RI 25.03  25.030  25.03 60.99 25.030  16.541\n",
       "Ca 31.04  55.133  47.47 31.04 38.878  55.133\n",
       "Si 21.36   5.014  16.47 54.23 32.256  21.356\n",
       "Fe  1.95   2.825  29.96 17.12  5.643   2.825"
      ]
     },
     "metadata": {},
     "output_type": "display_data"
    }
   ],
   "source": [
    "varImp(fit)"
   ]
  },
  {
   "cell_type": "code",
   "execution_count": 13,
   "metadata": {},
   "outputs": [
    {
     "data": {
      "text/plain": [
       "Confusion Matrix and Statistics\n",
       "\n",
       "          Reference\n",
       "Prediction Type1 Type2 Type3 Type5 Type6 Type7\n",
       "     Type1    18     5     2     0     0     2\n",
       "     Type2     3    13     0     0     0     1\n",
       "     Type3     1     1     0     0     0     0\n",
       "     Type5     0     2     0     3     0     0\n",
       "     Type6     0     0     0     0     2     0\n",
       "     Type7     0     0     0     0     1     3\n",
       "\n",
       "Overall Statistics\n",
       "                                          \n",
       "               Accuracy : 0.6842          \n",
       "                 95% CI : (0.5476, 0.8009)\n",
       "    No Information Rate : 0.386           \n",
       "    P-Value [Acc > NIR] : 4.946e-06       \n",
       "                                          \n",
       "                  Kappa : 0.5438          \n",
       "                                          \n",
       " Mcnemar's Test P-Value : NA              \n",
       "\n",
       "Statistics by Class:\n",
       "\n",
       "                     Class: Type1 Class: Type2 Class: Type3 Class: Type5\n",
       "Sensitivity                0.8182       0.6190      0.00000      1.00000\n",
       "Specificity                0.7429       0.8889      0.96364      0.96296\n",
       "Pos Pred Value             0.6667       0.7647      0.00000      0.60000\n",
       "Neg Pred Value             0.8667       0.8000      0.96364      1.00000\n",
       "Prevalence                 0.3860       0.3684      0.03509      0.05263\n",
       "Detection Rate             0.3158       0.2281      0.00000      0.05263\n",
       "Detection Prevalence       0.4737       0.2982      0.03509      0.08772\n",
       "Balanced Accuracy          0.7805       0.7540      0.48182      0.98148\n",
       "                     Class: Type6 Class: Type7\n",
       "Sensitivity               0.66667      0.50000\n",
       "Specificity               1.00000      0.98039\n",
       "Pos Pred Value            1.00000      0.75000\n",
       "Neg Pred Value            0.98182      0.94340\n",
       "Prevalence                0.05263      0.10526\n",
       "Detection Rate            0.03509      0.05263\n",
       "Detection Prevalence      0.03509      0.07018\n",
       "Balanced Accuracy         0.83333      0.74020"
      ]
     },
     "metadata": {},
     "output_type": "display_data"
    }
   ],
   "source": [
    "pred <- predict(fit, newdata = test )\n",
    "confusionMatrix(pred, test$Type)"
   ]
  },
  {
   "cell_type": "code",
   "execution_count": 14,
   "metadata": {},
   "outputs": [],
   "source": [
    "# 64.91 % is accuracy"
   ]
  }
 ],
 "metadata": {
  "kernelspec": {
   "display_name": "R",
   "language": "R",
   "name": "ir"
  },
  "language_info": {
   "codemirror_mode": "r",
   "file_extension": ".r",
   "mimetype": "text/x-r-source",
   "name": "R",
   "pygments_lexer": "r",
   "version": "3.6.1"
  }
 },
 "nbformat": 4,
 "nbformat_minor": 4
}
