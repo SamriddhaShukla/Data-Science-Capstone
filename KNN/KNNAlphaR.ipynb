{
 "cells": [
  {
   "cell_type": "code",
   "execution_count": 2,
   "metadata": {},
   "outputs": [
    {
     "name": "stderr",
     "output_type": "stream",
     "text": [
      "Installing package into 'C:/Users/samri/OneDrive/Documents/R/win-library/3.6'\n",
      "(as 'lib' is unspecified)\n"
     ]
    },
    {
     "name": "stdout",
     "output_type": "stream",
     "text": [
      "package 'class' successfully unpacked and MD5 sums checked\n",
      "\n",
      "The downloaded binary packages are in\n",
      "\tC:\\Users\\samri\\AppData\\Local\\Temp\\RtmpCWw04L\\downloaded_packages\n"
     ]
    }
   ],
   "source": [
    "install.packages(\"class\")"
   ]
  },
  {
   "cell_type": "code",
   "execution_count": 3,
   "metadata": {},
   "outputs": [
    {
     "name": "stderr",
     "output_type": "stream",
     "text": [
      "Warning message:\n",
      "\"package 'caret' was built under R version 3.6.3\"Loading required package: lattice\n",
      "Warning message:\n",
      "\"package 'lattice' was built under R version 3.6.3\"Loading required package: ggplot2\n",
      "Registered S3 methods overwritten by 'ggplot2':\n",
      "  method         from \n",
      "  [.quosures     rlang\n",
      "  c.quosures     rlang\n",
      "  print.quosures rlang\n",
      "Warning message:\n",
      "\"package 'pROC' was built under R version 3.6.3\"Type 'citation(\"pROC\")' for a citation.\n",
      "\n",
      "Attaching package: 'pROC'\n",
      "\n",
      "The following objects are masked from 'package:stats':\n",
      "\n",
      "    cov, smooth, var\n",
      "\n"
     ]
    }
   ],
   "source": [
    "library(caret)\n",
    "library(pROC)"
   ]
  },
  {
   "cell_type": "code",
   "execution_count": 6,
   "metadata": {},
   "outputs": [
    {
     "name": "stderr",
     "output_type": "stream",
     "text": [
      "Warning message:\n",
      "\"package 'mlbench' was built under R version 3.6.3\""
     ]
    }
   ],
   "source": [
    "library(mlbench)\n"
   ]
  },
  {
   "cell_type": "code",
   "execution_count": 5,
   "metadata": {},
   "outputs": [
    {
     "name": "stderr",
     "output_type": "stream",
     "text": [
      "Warning message:\n",
      "\"package 'class' was built under R version 3.6.3\"Warning message:\n",
      "\"package 'gmodels' was built under R version 3.6.3\"\n",
      "Attaching package: 'gmodels'\n",
      "\n",
      "The following object is masked from 'package:pROC':\n",
      "\n",
      "    ci\n",
      "\n"
     ]
    }
   ],
   "source": [
    "library(class)\n",
    "library(lattice)\n",
    "library(gmodels) "
   ]
  },
  {
   "cell_type": "code",
   "execution_count": 7,
   "metadata": {},
   "outputs": [],
   "source": [
    "glass <- read.csv(file.choose())"
   ]
  },
  {
   "cell_type": "code",
   "execution_count": 9,
   "metadata": {},
   "outputs": [
    {
     "data": {
      "text/plain": [
       "\n",
       " 1  2  3  5  6  7 \n",
       "70 76 17 13  9 29 "
      ]
     },
     "metadata": {},
     "output_type": "display_data"
    }
   ],
   "source": [
    "#table on different types of glasses \n",
    "table(glass$Type)"
   ]
  },
  {
   "cell_type": "code",
   "execution_count": 10,
   "metadata": {},
   "outputs": [
    {
     "name": "stdout",
     "output_type": "stream",
     "text": [
      "'data.frame':\t214 obs. of  11 variables:\n",
      " $ RI  : num  1.52 1.52 1.52 1.52 1.52 ...\n",
      " $ Na  : num  13.6 13.9 13.5 13.2 13.3 ...\n",
      " $ Mg  : num  4.49 3.6 3.55 3.69 3.62 3.61 3.6 3.61 3.58 3.6 ...\n",
      " $ Al  : num  1.1 1.36 1.54 1.29 1.24 1.62 1.14 1.05 1.37 1.36 ...\n",
      " $ Si  : num  71.8 72.7 73 72.6 73.1 ...\n",
      " $ K   : num  0.06 0.48 0.39 0.57 0.55 0.64 0.58 0.57 0.56 0.57 ...\n",
      " $ Ca  : num  8.75 7.83 7.78 8.22 8.07 8.07 8.17 8.24 8.3 8.4 ...\n",
      " $ Ba  : num  0 0 0 0 0 0 0 0 0 0 ...\n",
      " $ Fe  : num  0 0 0 0 0 0.26 0 0 0 0.11 ...\n",
      " $ Type: int  1 1 1 1 1 1 1 1 1 1 ...\n",
      " $ type: Factor w/ 6 levels \"1\",\"2\",\"3\",\"5\",..: 1 1 1 1 1 1 1 1 1 1 ...\n"
     ]
    }
   ],
   "source": [
    "glass$type = as.factor(glass$Type)\n",
    "str(glass)"
   ]
  },
  {
   "cell_type": "code",
   "execution_count": 11,
   "metadata": {},
   "outputs": [
    {
     "data": {
      "text/plain": [
       "\n",
       "   1    2    3    5    6    7 \n",
       "32.7 35.5  7.9  6.1  4.2 13.6 "
      ]
     },
     "metadata": {},
     "output_type": "display_data"
    }
   ],
   "source": [
    "# Type1- 70, Type2-76,Type3-17,Type5-13,Type6-9,Type7-29\n",
    "\n",
    "\n",
    "# table or proportation of enteries in the datasets. What % of glass of Type 1 and what % of glass of Type 2\n",
    "round(prop.table(table(glass$Type))*100,1)"
   ]
  },
  {
   "cell_type": "code",
   "execution_count": 12,
   "metadata": {},
   "outputs": [
    {
     "data": {
      "text/plain": [
       "       RI              Na              Mg       \n",
       " Min.   :1.511   Min.   :10.73   Min.   :0.000  \n",
       " 1st Qu.:1.517   1st Qu.:12.91   1st Qu.:2.115  \n",
       " Median :1.518   Median :13.30   Median :3.480  \n",
       " Mean   :1.518   Mean   :13.41   Mean   :2.685  \n",
       " 3rd Qu.:1.519   3rd Qu.:13.82   3rd Qu.:3.600  \n",
       " Max.   :1.534   Max.   :17.38   Max.   :4.490  "
      ]
     },
     "metadata": {},
     "output_type": "display_data"
    }
   ],
   "source": [
    "summary(glass[c(\"RI\",\"Na\",\"Mg\")])"
   ]
  },
  {
   "cell_type": "code",
   "execution_count": 13,
   "metadata": {},
   "outputs": [
    {
     "data": {
      "text/html": [
       "<ol class=list-inline>\n",
       "\t<li>0</li>\n",
       "\t<li>0.25</li>\n",
       "\t<li>0.5</li>\n",
       "\t<li>0.75</li>\n",
       "\t<li>1</li>\n",
       "</ol>\n"
      ],
      "text/latex": [
       "\\begin{enumerate*}\n",
       "\\item 0\n",
       "\\item 0.25\n",
       "\\item 0.5\n",
       "\\item 0.75\n",
       "\\item 1\n",
       "\\end{enumerate*}\n"
      ],
      "text/markdown": [
       "1. 0\n",
       "2. 0.25\n",
       "3. 0.5\n",
       "4. 0.75\n",
       "5. 1\n",
       "\n",
       "\n"
      ],
      "text/plain": [
       "[1] 0.00 0.25 0.50 0.75 1.00"
      ]
     },
     "metadata": {},
     "output_type": "display_data"
    }
   ],
   "source": [
    "#Create a function to normalize the data\n",
    "norm <- function(x){ \n",
    "  return((x-min(x))/(max(x)-min(x)))\n",
    "}\n",
    "#test normalization\n",
    "norm(c(1,2,3,4,5))"
   ]
  },
  {
   "cell_type": "code",
   "execution_count": 14,
   "metadata": {},
   "outputs": [
    {
     "data": {
      "text/html": [
       "<ol class=list-inline>\n",
       "\t<li>0</li>\n",
       "\t<li>0.25</li>\n",
       "\t<li>0.5</li>\n",
       "\t<li>0.75</li>\n",
       "\t<li>1</li>\n",
       "</ol>\n"
      ],
      "text/latex": [
       "\\begin{enumerate*}\n",
       "\\item 0\n",
       "\\item 0.25\n",
       "\\item 0.5\n",
       "\\item 0.75\n",
       "\\item 1\n",
       "\\end{enumerate*}\n"
      ],
      "text/markdown": [
       "1. 0\n",
       "2. 0.25\n",
       "3. 0.5\n",
       "4. 0.75\n",
       "5. 1\n",
       "\n",
       "\n"
      ],
      "text/plain": [
       "[1] 0.00 0.25 0.50 0.75 1.00"
      ]
     },
     "metadata": {},
     "output_type": "display_data"
    }
   ],
   "source": [
    "norm(c(10,20,30,40,50))"
   ]
  },
  {
   "cell_type": "code",
   "execution_count": 16,
   "metadata": {},
   "outputs": [
    {
     "data": {
      "text/plain": [
       "       RI               Na               Mg        \n",
       " Min.   :0.0000   Min.   :0.0000   Min.   :0.0000  \n",
       " 1st Qu.:0.2358   1st Qu.:0.3274   1st Qu.:0.4710  \n",
       " Median :0.2867   Median :0.3865   Median :0.7751  \n",
       " Mean   :0.3167   Mean   :0.4027   Mean   :0.5979  \n",
       " 3rd Qu.:0.3515   3rd Qu.:0.4654   3rd Qu.:0.8018  \n",
       " Max.   :1.0000   Max.   :1.0000   Max.   :1.0000  "
      ]
     },
     "metadata": {},
     "output_type": "display_data"
    }
   ],
   "source": [
    "#Apply the normalization function to glass dataset\n",
    "glass_n<- as.data.frame(lapply(glass[1:9], norm))\n",
    "summary(glass_n[c(\"RI\",\"Na\",\"Mg\")])"
   ]
  },
  {
   "cell_type": "code",
   "execution_count": 17,
   "metadata": {},
   "outputs": [],
   "source": [
    "#create training and test datasets\n",
    "set.seed(123)\n",
    "ind <- sample(2, nrow(glass_n), replace = TRUE, prob = c(0.7,0.3))\n",
    "glass_train <- glass_n[ind==1,]\n",
    "glass_test <-  glass_n[ind==2,]"
   ]
  },
  {
   "cell_type": "code",
   "execution_count": 18,
   "metadata": {},
   "outputs": [],
   "source": [
    "#Get labels for training and test datasets\n",
    "set.seed(123)\n",
    "ind1 <- sample(2, nrow(glass), replace = TRUE, prob = c(0.7,0.3))\n",
    "glass_train_labels <- glass[ind1==1,10]\n",
    "glass_test_labels <-  glass[ind1==2,10]"
   ]
  },
  {
   "cell_type": "code",
   "execution_count": 19,
   "metadata": {},
   "outputs": [
    {
     "data": {
      "text/plain": [
       "               glass_test_labels\n",
       "glass_test_pred  1  2  3  5  6  7\n",
       "              1 18  6  1  0  0  0\n",
       "              2  4 12  1  0  0  0\n",
       "              3  0  1  0  0  0  0\n",
       "              5  0  1  0  3  1  1\n",
       "              6  0  0  0  0  2  1\n",
       "              7  0  1  0  0  0  4"
      ]
     },
     "metadata": {},
     "output_type": "display_data"
    }
   ],
   "source": [
    "# Build a KNN model on taining dataset\n",
    "\n",
    "# Building the KNN model on training dataset and also need labels which we are including c1. Once we build the preduction model\n",
    "# we have to test on test dataset\n",
    "\n",
    "glass_test_pred <- knn(train = glass_train, test = glass_test, cl = glass_train_labels, k=3)\n",
    "table(glass_test_pred,glass_test_labels)"
   ]
  },
  {
   "cell_type": "code",
   "execution_count": 20,
   "metadata": {},
   "outputs": [
    {
     "data": {
      "text/html": [
       "0.684210526315789"
      ],
      "text/latex": [
       "0.684210526315789"
      ],
      "text/markdown": [
       "0.684210526315789"
      ],
      "text/plain": [
       "[1] 0.6842105"
      ]
     },
     "metadata": {},
     "output_type": "display_data"
    }
   ],
   "source": [
    "mean(glass_test_pred==glass_test_labels) #68.42"
   ]
  },
  {
   "cell_type": "code",
   "execution_count": 21,
   "metadata": {},
   "outputs": [
    {
     "name": "stdout",
     "output_type": "stream",
     "text": [
      "\n",
      " \n",
      "   Cell Contents\n",
      "|-------------------------|\n",
      "|                       N |\n",
      "|           N / Row Total |\n",
      "|           N / Col Total |\n",
      "|         N / Table Total |\n",
      "|-------------------------|\n",
      "\n",
      " \n",
      "Total Observations in Table:  57 \n",
      "\n",
      " \n",
      "                  | glass_test_pred \n",
      "glass_test_labels |         1 |         2 |         3 |         5 |         6 |         7 | Row Total | \n",
      "------------------|-----------|-----------|-----------|-----------|-----------|-----------|-----------|\n",
      "                1 |        18 |         4 |         0 |         0 |         0 |         0 |        22 | \n",
      "                  |     0.818 |     0.182 |     0.000 |     0.000 |     0.000 |     0.000 |     0.386 | \n",
      "                  |     0.720 |     0.235 |     0.000 |     0.000 |     0.000 |     0.000 |           | \n",
      "                  |     0.316 |     0.070 |     0.000 |     0.000 |     0.000 |     0.000 |           | \n",
      "------------------|-----------|-----------|-----------|-----------|-----------|-----------|-----------|\n",
      "                2 |         6 |        12 |         1 |         1 |         0 |         1 |        21 | \n",
      "                  |     0.286 |     0.571 |     0.048 |     0.048 |     0.000 |     0.048 |     0.368 | \n",
      "                  |     0.240 |     0.706 |     1.000 |     0.167 |     0.000 |     0.200 |           | \n",
      "                  |     0.105 |     0.211 |     0.018 |     0.018 |     0.000 |     0.018 |           | \n",
      "------------------|-----------|-----------|-----------|-----------|-----------|-----------|-----------|\n",
      "                3 |         1 |         1 |         0 |         0 |         0 |         0 |         2 | \n",
      "                  |     0.500 |     0.500 |     0.000 |     0.000 |     0.000 |     0.000 |     0.035 | \n",
      "                  |     0.040 |     0.059 |     0.000 |     0.000 |     0.000 |     0.000 |           | \n",
      "                  |     0.018 |     0.018 |     0.000 |     0.000 |     0.000 |     0.000 |           | \n",
      "------------------|-----------|-----------|-----------|-----------|-----------|-----------|-----------|\n",
      "                5 |         0 |         0 |         0 |         3 |         0 |         0 |         3 | \n",
      "                  |     0.000 |     0.000 |     0.000 |     1.000 |     0.000 |     0.000 |     0.053 | \n",
      "                  |     0.000 |     0.000 |     0.000 |     0.500 |     0.000 |     0.000 |           | \n",
      "                  |     0.000 |     0.000 |     0.000 |     0.053 |     0.000 |     0.000 |           | \n",
      "------------------|-----------|-----------|-----------|-----------|-----------|-----------|-----------|\n",
      "                6 |         0 |         0 |         0 |         1 |         2 |         0 |         3 | \n",
      "                  |     0.000 |     0.000 |     0.000 |     0.333 |     0.667 |     0.000 |     0.053 | \n",
      "                  |     0.000 |     0.000 |     0.000 |     0.167 |     0.667 |     0.000 |           | \n",
      "                  |     0.000 |     0.000 |     0.000 |     0.018 |     0.035 |     0.000 |           | \n",
      "------------------|-----------|-----------|-----------|-----------|-----------|-----------|-----------|\n",
      "                7 |         0 |         0 |         0 |         1 |         1 |         4 |         6 | \n",
      "                  |     0.000 |     0.000 |     0.000 |     0.167 |     0.167 |     0.667 |     0.105 | \n",
      "                  |     0.000 |     0.000 |     0.000 |     0.167 |     0.333 |     0.800 |           | \n",
      "                  |     0.000 |     0.000 |     0.000 |     0.018 |     0.018 |     0.070 |           | \n",
      "------------------|-----------|-----------|-----------|-----------|-----------|-----------|-----------|\n",
      "     Column Total |        25 |        17 |         1 |         6 |         3 |         5 |        57 | \n",
      "                  |     0.439 |     0.298 |     0.018 |     0.105 |     0.053 |     0.088 |           | \n",
      "------------------|-----------|-----------|-----------|-----------|-----------|-----------|-----------|\n",
      "\n",
      " \n"
     ]
    }
   ],
   "source": [
    "# Evaluating Model Performance ----\n",
    "\n",
    "# load the gmodel library\n",
    "\n",
    "CrossTable(x=glass_test_labels,y=glass_test_pred,prop.chisq = FALSE) "
   ]
  },
  {
   "cell_type": "code",
   "execution_count": 22,
   "metadata": {},
   "outputs": [],
   "source": [
    "# Accuracy is 65.07 %. "
   ]
  }
 ],
 "metadata": {
  "kernelspec": {
   "display_name": "R",
   "language": "R",
   "name": "ir"
  },
  "language_info": {
   "codemirror_mode": "r",
   "file_extension": ".r",
   "mimetype": "text/x-r-source",
   "name": "R",
   "pygments_lexer": "r",
   "version": "3.6.1"
  }
 },
 "nbformat": 4,
 "nbformat_minor": 4
}
