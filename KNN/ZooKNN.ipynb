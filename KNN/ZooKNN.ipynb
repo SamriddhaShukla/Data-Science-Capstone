{
 "cells": [
  {
   "cell_type": "code",
   "execution_count": 1,
   "metadata": {},
   "outputs": [
    {
     "name": "stderr",
     "output_type": "stream",
     "text": [
      "Warning message:\n",
      "\"package 'caret' was built under R version 3.6.3\"Loading required package: lattice\n",
      "Warning message:\n",
      "\"package 'lattice' was built under R version 3.6.3\"Loading required package: ggplot2\n",
      "Registered S3 methods overwritten by 'ggplot2':\n",
      "  method         from \n",
      "  [.quosures     rlang\n",
      "  c.quosures     rlang\n",
      "  print.quosures rlang\n",
      "Warning message:\n",
      "\"package 'pROC' was built under R version 3.6.3\"Type 'citation(\"pROC\")' for a citation.\n",
      "\n",
      "Attaching package: 'pROC'\n",
      "\n",
      "The following objects are masked from 'package:stats':\n",
      "\n",
      "    cov, smooth, var\n",
      "\n",
      "Warning message:\n",
      "\"package 'mlbench' was built under R version 3.6.3\""
     ]
    }
   ],
   "source": [
    "library(caret)\n",
    "library(pROC)\n",
    "library(mlbench)\n",
    "library(lattice)"
   ]
  },
  {
   "cell_type": "code",
   "execution_count": 2,
   "metadata": {},
   "outputs": [],
   "source": [
    "zoo <- read.csv(file.choose())"
   ]
  },
  {
   "cell_type": "code",
   "execution_count": 3,
   "metadata": {},
   "outputs": [
    {
     "name": "stdout",
     "output_type": "stream",
     "text": [
      "'data.frame':\t101 obs. of  18 variables:\n",
      " $ animal.name: Factor w/ 100 levels \"aardvark\",\"antelope\",..: 1 2 3 4 5 6 7 8 9 10 ...\n",
      " $ hair       : int  1 1 0 1 1 1 1 0 0 1 ...\n",
      " $ feathers   : int  0 0 0 0 0 0 0 0 0 0 ...\n",
      " $ eggs       : int  0 0 1 0 0 0 0 1 1 0 ...\n",
      " $ milk       : int  1 1 0 1 1 1 1 0 0 1 ...\n",
      " $ airborne   : int  0 0 0 0 0 0 0 0 0 0 ...\n",
      " $ aquatic    : int  0 0 1 0 0 0 0 1 1 0 ...\n",
      " $ predator   : int  1 0 1 1 1 0 0 0 1 0 ...\n",
      " $ toothed    : int  1 1 1 1 1 1 1 1 1 1 ...\n",
      " $ backbone   : int  1 1 1 1 1 1 1 1 1 1 ...\n",
      " $ breathes   : int  1 1 0 1 1 1 1 0 0 1 ...\n",
      " $ venomous   : int  0 0 0 0 0 0 0 0 0 0 ...\n",
      " $ fins       : int  0 0 1 0 0 0 0 1 1 0 ...\n",
      " $ legs       : int  4 4 0 4 4 4 4 0 0 4 ...\n",
      " $ tail       : int  0 1 1 0 1 1 1 1 1 0 ...\n",
      " $ domestic   : int  0 0 0 0 0 0 1 1 0 1 ...\n",
      " $ catsize    : int  1 1 0 1 1 1 1 0 0 0 ...\n",
      " $ type       : int  1 1 4 1 1 1 1 4 4 1 ...\n"
     ]
    }
   ],
   "source": [
    "str(zoo)"
   ]
  },
  {
   "cell_type": "code",
   "execution_count": 4,
   "metadata": {},
   "outputs": [
    {
     "name": "stdout",
     "output_type": "stream",
     "text": [
      "'data.frame':\t101 obs. of  17 variables:\n",
      " $ hair    : int  1 1 0 1 1 1 1 0 0 1 ...\n",
      " $ feathers: int  0 0 0 0 0 0 0 0 0 0 ...\n",
      " $ eggs    : int  0 0 1 0 0 0 0 1 1 0 ...\n",
      " $ milk    : int  1 1 0 1 1 1 1 0 0 1 ...\n",
      " $ airborne: int  0 0 0 0 0 0 0 0 0 0 ...\n",
      " $ aquatic : int  0 0 1 0 0 0 0 1 1 0 ...\n",
      " $ predator: int  1 0 1 1 1 0 0 0 1 0 ...\n",
      " $ toothed : int  1 1 1 1 1 1 1 1 1 1 ...\n",
      " $ backbone: int  1 1 1 1 1 1 1 1 1 1 ...\n",
      " $ breathes: int  1 1 0 1 1 1 1 0 0 1 ...\n",
      " $ venomous: int  0 0 0 0 0 0 0 0 0 0 ...\n",
      " $ fins    : int  0 0 1 0 0 0 0 1 1 0 ...\n",
      " $ legs    : int  4 4 0 4 4 4 4 0 0 4 ...\n",
      " $ tail    : int  0 1 1 0 1 1 1 1 1 0 ...\n",
      " $ domestic: int  0 0 0 0 0 0 1 1 0 1 ...\n",
      " $ catsize : int  1 1 0 1 1 1 1 0 0 0 ...\n",
      " $ type    : int  1 1 4 1 1 1 1 4 4 1 ...\n"
     ]
    }
   ],
   "source": [
    "zoo1 <- zoo[,2:18]\n",
    "str(zoo1)"
   ]
  },
  {
   "cell_type": "code",
   "execution_count": 5,
   "metadata": {},
   "outputs": [],
   "source": [
    "zoo1$hair <- as.factor(zoo1$hair)\n",
    "zoo1$feathers <- as.factor(zoo1$feathers)\n",
    "zoo1$eggs <- as.factor(zoo1$eggs)\n",
    "zoo1$milk <- as.factor(zoo1$milk)\n",
    "zoo1$airborne <- as.factor(zoo1$airborne)\n",
    "zoo1$aquatic <- as.factor(zoo1$aquatic)\n",
    "zoo1$predator <- as.factor(zoo1$predator)\n",
    "zoo1$toothed <- as.factor(zoo1$toothed)\n",
    "zoo1$backbone <- as.factor(zoo1$backbone)\n",
    "zoo1$breathes <- as.factor(zoo1$breathes)\n",
    "zoo1$venomous <- as.factor(zoo1$venomous)\n",
    "zoo1$fins <- as.factor(zoo1$fins)\n",
    "zoo1$legs <- as.factor(zoo1$legs)\n",
    "zoo1$tail <- as.factor(zoo1$tail)\n",
    "zoo1$domestic <- as.factor(zoo1$domestic)\n",
    "zoo1$catsize <- as.factor(zoo1$catsize)\n",
    "zoo1$type <- as.factor(zoo1$type)"
   ]
  },
  {
   "cell_type": "code",
   "execution_count": 6,
   "metadata": {},
   "outputs": [],
   "source": [
    "# Data partition\n",
    "set.seed(123)\n",
    "ind <- sample(2,nrow(zoo1), replace = T, prob = c(0.7,0.3))\n",
    "train <- zoo1[ind==1,]\n",
    "test <- zoo1[ind==2,]"
   ]
  },
  {
   "cell_type": "code",
   "execution_count": 7,
   "metadata": {},
   "outputs": [
    {
     "name": "stderr",
     "output_type": "stream",
     "text": [
      "Warning message in preProcess.default(thresh = 0.95, k = 5, freqCut = 19, uniqueCut = 10, :\n",
      "\"These variables have zero variances: legs5\"Warning message in preProcess.default(thresh = 0.95, k = 5, freqCut = 19, uniqueCut = 10, :\n",
      "\"These variables have zero variances: legs5\"Warning message in preProcess.default(thresh = 0.95, k = 5, freqCut = 19, uniqueCut = 10, :\n",
      "\"These variables have zero variances: legs5\"Warning message in preProcess.default(thresh = 0.95, k = 5, freqCut = 19, uniqueCut = 10, :\n",
      "\"These variables have zero variances: legs5\"Warning message in preProcess.default(thresh = 0.95, k = 5, freqCut = 19, uniqueCut = 10, :\n",
      "\"These variables have zero variances: legs5\"Warning message in preProcess.default(thresh = 0.95, k = 5, freqCut = 19, uniqueCut = 10, :\n",
      "\"These variables have zero variances: legs5\"Warning message in preProcess.default(thresh = 0.95, k = 5, freqCut = 19, uniqueCut = 10, :\n",
      "\"These variables have zero variances: legs5\"Warning message in preProcess.default(thresh = 0.95, k = 5, freqCut = 19, uniqueCut = 10, :\n",
      "\"These variables have zero variances: legs5\"Warning message in preProcess.default(thresh = 0.95, k = 5, freqCut = 19, uniqueCut = 10, :\n",
      "\"These variables have zero variances: legs5\"Warning message in preProcess.default(thresh = 0.95, k = 5, freqCut = 19, uniqueCut = 10, :\n",
      "\"These variables have zero variances: legs5\"Warning message in preProcess.default(thresh = 0.95, k = 5, freqCut = 19, uniqueCut = 10, :\n",
      "\"These variables have zero variances: legs5\"Warning message in preProcess.default(thresh = 0.95, k = 5, freqCut = 19, uniqueCut = 10, :\n",
      "\"These variables have zero variances: legs5\"Warning message in preProcess.default(thresh = 0.95, k = 5, freqCut = 19, uniqueCut = 10, :\n",
      "\"These variables have zero variances: legs5\"Warning message in preProcess.default(thresh = 0.95, k = 5, freqCut = 19, uniqueCut = 10, :\n",
      "\"These variables have zero variances: legs5\"Warning message in preProcess.default(thresh = 0.95, k = 5, freqCut = 19, uniqueCut = 10, :\n",
      "\"These variables have zero variances: legs5\"Warning message in preProcess.default(thresh = 0.95, k = 5, freqCut = 19, uniqueCut = 10, :\n",
      "\"These variables have zero variances: legs5\"Warning message in preProcess.default(thresh = 0.95, k = 5, freqCut = 19, uniqueCut = 10, :\n",
      "\"These variables have zero variances: legs5\"Warning message in preProcess.default(thresh = 0.95, k = 5, freqCut = 19, uniqueCut = 10, :\n",
      "\"These variables have zero variances: legs5\"Warning message in preProcess.default(thresh = 0.95, k = 5, freqCut = 19, uniqueCut = 10, :\n",
      "\"These variables have zero variances: legs5\"Warning message in preProcess.default(thresh = 0.95, k = 5, freqCut = 19, uniqueCut = 10, :\n",
      "\"These variables have zero variances: legs5\"Warning message in preProcess.default(thresh = 0.95, k = 5, freqCut = 19, uniqueCut = 10, :\n",
      "\"These variables have zero variances: legs8\"Warning message in preProcess.default(thresh = 0.95, k = 5, freqCut = 19, uniqueCut = 10, :\n",
      "\"These variables have zero variances: legs8\"Warning message in preProcess.default(thresh = 0.95, k = 5, freqCut = 19, uniqueCut = 10, :\n",
      "\"These variables have zero variances: legs8\"Warning message in preProcess.default(thresh = 0.95, k = 5, freqCut = 19, uniqueCut = 10, :\n",
      "\"These variables have zero variances: legs8\"Warning message in preProcess.default(thresh = 0.95, k = 5, freqCut = 19, uniqueCut = 10, :\n",
      "\"These variables have zero variances: legs8\"Warning message in preProcess.default(thresh = 0.95, k = 5, freqCut = 19, uniqueCut = 10, :\n",
      "\"These variables have zero variances: legs8\"Warning message in preProcess.default(thresh = 0.95, k = 5, freqCut = 19, uniqueCut = 10, :\n",
      "\"These variables have zero variances: legs8\"Warning message in preProcess.default(thresh = 0.95, k = 5, freqCut = 19, uniqueCut = 10, :\n",
      "\"These variables have zero variances: legs8\"Warning message in preProcess.default(thresh = 0.95, k = 5, freqCut = 19, uniqueCut = 10, :\n",
      "\"These variables have zero variances: legs8\"Warning message in preProcess.default(thresh = 0.95, k = 5, freqCut = 19, uniqueCut = 10, :\n",
      "\"These variables have zero variances: legs8\"Warning message in preProcess.default(thresh = 0.95, k = 5, freqCut = 19, uniqueCut = 10, :\n",
      "\"These variables have zero variances: legs8\"Warning message in preProcess.default(thresh = 0.95, k = 5, freqCut = 19, uniqueCut = 10, :\n",
      "\"These variables have zero variances: legs8\"Warning message in preProcess.default(thresh = 0.95, k = 5, freqCut = 19, uniqueCut = 10, :\n",
      "\"These variables have zero variances: legs8\"Warning message in preProcess.default(thresh = 0.95, k = 5, freqCut = 19, uniqueCut = 10, :\n",
      "\"These variables have zero variances: legs8\"Warning message in preProcess.default(thresh = 0.95, k = 5, freqCut = 19, uniqueCut = 10, :\n",
      "\"These variables have zero variances: legs8\"Warning message in preProcess.default(thresh = 0.95, k = 5, freqCut = 19, uniqueCut = 10, :\n",
      "\"These variables have zero variances: legs8\"Warning message in preProcess.default(thresh = 0.95, k = 5, freqCut = 19, uniqueCut = 10, :\n",
      "\"These variables have zero variances: legs8\"Warning message in preProcess.default(thresh = 0.95, k = 5, freqCut = 19, uniqueCut = 10, :\n",
      "\"These variables have zero variances: legs8\"Warning message in preProcess.default(thresh = 0.95, k = 5, freqCut = 19, uniqueCut = 10, :\n",
      "\"These variables have zero variances: legs8\"Warning message in preProcess.default(thresh = 0.95, k = 5, freqCut = 19, uniqueCut = 10, :\n",
      "\"These variables have zero variances: legs8\"Warning message in preProcess.default(thresh = 0.95, k = 5, freqCut = 19, uniqueCut = 10, :\n",
      "\"These variables have zero variances: legs5\"Warning message in preProcess.default(thresh = 0.95, k = 5, freqCut = 19, uniqueCut = 10, :\n",
      "\"These variables have zero variances: legs5\"Warning message in preProcess.default(thresh = 0.95, k = 5, freqCut = 19, uniqueCut = 10, :\n",
      "\"These variables have zero variances: legs5\"Warning message in preProcess.default(thresh = 0.95, k = 5, freqCut = 19, uniqueCut = 10, :\n",
      "\"These variables have zero variances: legs5\"Warning message in preProcess.default(thresh = 0.95, k = 5, freqCut = 19, uniqueCut = 10, :\n",
      "\"These variables have zero variances: legs5\"Warning message in preProcess.default(thresh = 0.95, k = 5, freqCut = 19, uniqueCut = 10, :\n",
      "\"These variables have zero variances: legs5\"Warning message in preProcess.default(thresh = 0.95, k = 5, freqCut = 19, uniqueCut = 10, :\n",
      "\"These variables have zero variances: legs5\"Warning message in preProcess.default(thresh = 0.95, k = 5, freqCut = 19, uniqueCut = 10, :\n",
      "\"These variables have zero variances: legs5\"Warning message in preProcess.default(thresh = 0.95, k = 5, freqCut = 19, uniqueCut = 10, :\n",
      "\"These variables have zero variances: legs5\"Warning message in preProcess.default(thresh = 0.95, k = 5, freqCut = 19, uniqueCut = 10, :\n",
      "\"These variables have zero variances: legs5\"Warning message in preProcess.default(thresh = 0.95, k = 5, freqCut = 19, uniqueCut = 10, :\n",
      "\"These variables have zero variances: legs5\"Warning message in preProcess.default(thresh = 0.95, k = 5, freqCut = 19, uniqueCut = 10, :\n",
      "\"These variables have zero variances: legs5\"Warning message in preProcess.default(thresh = 0.95, k = 5, freqCut = 19, uniqueCut = 10, :\n",
      "\"These variables have zero variances: legs5\"Warning message in preProcess.default(thresh = 0.95, k = 5, freqCut = 19, uniqueCut = 10, :\n",
      "\"These variables have zero variances: legs5\"Warning message in preProcess.default(thresh = 0.95, k = 5, freqCut = 19, uniqueCut = 10, :\n",
      "\"These variables have zero variances: legs5\"Warning message in preProcess.default(thresh = 0.95, k = 5, freqCut = 19, uniqueCut = 10, :\n",
      "\"These variables have zero variances: legs5\"Warning message in preProcess.default(thresh = 0.95, k = 5, freqCut = 19, uniqueCut = 10, :\n",
      "\"These variables have zero variances: legs5\"Warning message in preProcess.default(thresh = 0.95, k = 5, freqCut = 19, uniqueCut = 10, :\n",
      "\"These variables have zero variances: legs5\"Warning message in preProcess.default(thresh = 0.95, k = 5, freqCut = 19, uniqueCut = 10, :\n",
      "\"These variables have zero variances: legs5\"Warning message in preProcess.default(thresh = 0.95, k = 5, freqCut = 19, uniqueCut = 10, :\n",
      "\"These variables have zero variances: legs5\"Warning message in preProcess.default(thresh = 0.95, k = 5, freqCut = 19, uniqueCut = 10, :\n"
     ]
    },
    {
     "name": "stderr",
     "output_type": "stream",
     "text": [
      "\"These variables have zero variances: legs8\"Warning message in preProcess.default(thresh = 0.95, k = 5, freqCut = 19, uniqueCut = 10, :\n",
      "\"These variables have zero variances: legs8\"Warning message in preProcess.default(thresh = 0.95, k = 5, freqCut = 19, uniqueCut = 10, :\n",
      "\"These variables have zero variances: legs8\"Warning message in preProcess.default(thresh = 0.95, k = 5, freqCut = 19, uniqueCut = 10, :\n",
      "\"These variables have zero variances: legs8\"Warning message in preProcess.default(thresh = 0.95, k = 5, freqCut = 19, uniqueCut = 10, :\n",
      "\"These variables have zero variances: legs8\"Warning message in preProcess.default(thresh = 0.95, k = 5, freqCut = 19, uniqueCut = 10, :\n",
      "\"These variables have zero variances: legs8\"Warning message in preProcess.default(thresh = 0.95, k = 5, freqCut = 19, uniqueCut = 10, :\n",
      "\"These variables have zero variances: legs8\"Warning message in preProcess.default(thresh = 0.95, k = 5, freqCut = 19, uniqueCut = 10, :\n",
      "\"These variables have zero variances: legs8\"Warning message in preProcess.default(thresh = 0.95, k = 5, freqCut = 19, uniqueCut = 10, :\n",
      "\"These variables have zero variances: legs8\"Warning message in preProcess.default(thresh = 0.95, k = 5, freqCut = 19, uniqueCut = 10, :\n",
      "\"These variables have zero variances: legs8\"Warning message in preProcess.default(thresh = 0.95, k = 5, freqCut = 19, uniqueCut = 10, :\n",
      "\"These variables have zero variances: legs8\"Warning message in preProcess.default(thresh = 0.95, k = 5, freqCut = 19, uniqueCut = 10, :\n",
      "\"These variables have zero variances: legs8\"Warning message in preProcess.default(thresh = 0.95, k = 5, freqCut = 19, uniqueCut = 10, :\n",
      "\"These variables have zero variances: legs8\"Warning message in preProcess.default(thresh = 0.95, k = 5, freqCut = 19, uniqueCut = 10, :\n",
      "\"These variables have zero variances: legs8\"Warning message in preProcess.default(thresh = 0.95, k = 5, freqCut = 19, uniqueCut = 10, :\n",
      "\"These variables have zero variances: legs8\"Warning message in preProcess.default(thresh = 0.95, k = 5, freqCut = 19, uniqueCut = 10, :\n",
      "\"These variables have zero variances: legs8\"Warning message in preProcess.default(thresh = 0.95, k = 5, freqCut = 19, uniqueCut = 10, :\n",
      "\"These variables have zero variances: legs8\"Warning message in preProcess.default(thresh = 0.95, k = 5, freqCut = 19, uniqueCut = 10, :\n",
      "\"These variables have zero variances: legs8\"Warning message in preProcess.default(thresh = 0.95, k = 5, freqCut = 19, uniqueCut = 10, :\n",
      "\"These variables have zero variances: legs8\"Warning message in preProcess.default(thresh = 0.95, k = 5, freqCut = 19, uniqueCut = 10, :\n",
      "\"These variables have zero variances: legs8\"Warning message in preProcess.default(thresh = 0.95, k = 5, freqCut = 19, uniqueCut = 10, :\n",
      "\"These variables have zero variances: legs8\"Warning message in preProcess.default(thresh = 0.95, k = 5, freqCut = 19, uniqueCut = 10, :\n",
      "\"These variables have zero variances: legs8\"Warning message in preProcess.default(thresh = 0.95, k = 5, freqCut = 19, uniqueCut = 10, :\n",
      "\"These variables have zero variances: legs8\"Warning message in preProcess.default(thresh = 0.95, k = 5, freqCut = 19, uniqueCut = 10, :\n",
      "\"These variables have zero variances: legs8\"Warning message in preProcess.default(thresh = 0.95, k = 5, freqCut = 19, uniqueCut = 10, :\n",
      "\"These variables have zero variances: legs8\"Warning message in preProcess.default(thresh = 0.95, k = 5, freqCut = 19, uniqueCut = 10, :\n",
      "\"These variables have zero variances: legs8\"Warning message in preProcess.default(thresh = 0.95, k = 5, freqCut = 19, uniqueCut = 10, :\n",
      "\"These variables have zero variances: legs8\"Warning message in preProcess.default(thresh = 0.95, k = 5, freqCut = 19, uniqueCut = 10, :\n",
      "\"These variables have zero variances: legs8\"Warning message in preProcess.default(thresh = 0.95, k = 5, freqCut = 19, uniqueCut = 10, :\n",
      "\"These variables have zero variances: legs8\"Warning message in preProcess.default(thresh = 0.95, k = 5, freqCut = 19, uniqueCut = 10, :\n",
      "\"These variables have zero variances: legs8\"Warning message in preProcess.default(thresh = 0.95, k = 5, freqCut = 19, uniqueCut = 10, :\n",
      "\"These variables have zero variances: legs8\"Warning message in preProcess.default(thresh = 0.95, k = 5, freqCut = 19, uniqueCut = 10, :\n",
      "\"These variables have zero variances: legs8\"Warning message in preProcess.default(thresh = 0.95, k = 5, freqCut = 19, uniqueCut = 10, :\n",
      "\"These variables have zero variances: legs8\"Warning message in preProcess.default(thresh = 0.95, k = 5, freqCut = 19, uniqueCut = 10, :\n",
      "\"These variables have zero variances: legs8\"Warning message in preProcess.default(thresh = 0.95, k = 5, freqCut = 19, uniqueCut = 10, :\n",
      "\"These variables have zero variances: legs8\"Warning message in preProcess.default(thresh = 0.95, k = 5, freqCut = 19, uniqueCut = 10, :\n",
      "\"These variables have zero variances: legs8\"Warning message in preProcess.default(thresh = 0.95, k = 5, freqCut = 19, uniqueCut = 10, :\n",
      "\"These variables have zero variances: legs8\"Warning message in preProcess.default(thresh = 0.95, k = 5, freqCut = 19, uniqueCut = 10, :\n",
      "\"These variables have zero variances: legs8\"Warning message in preProcess.default(thresh = 0.95, k = 5, freqCut = 19, uniqueCut = 10, :\n",
      "\"These variables have zero variances: legs8\"Warning message in preProcess.default(thresh = 0.95, k = 5, freqCut = 19, uniqueCut = 10, :\n",
      "\"These variables have zero variances: legs8\"Warning message in preProcess.default(thresh = 0.95, k = 5, freqCut = 19, uniqueCut = 10, :\n",
      "\"These variables have zero variances: legs5\"Warning message in preProcess.default(thresh = 0.95, k = 5, freqCut = 19, uniqueCut = 10, :\n",
      "\"These variables have zero variances: legs5\"Warning message in preProcess.default(thresh = 0.95, k = 5, freqCut = 19, uniqueCut = 10, :\n",
      "\"These variables have zero variances: legs5\"Warning message in preProcess.default(thresh = 0.95, k = 5, freqCut = 19, uniqueCut = 10, :\n",
      "\"These variables have zero variances: legs5\"Warning message in preProcess.default(thresh = 0.95, k = 5, freqCut = 19, uniqueCut = 10, :\n",
      "\"These variables have zero variances: legs5\"Warning message in preProcess.default(thresh = 0.95, k = 5, freqCut = 19, uniqueCut = 10, :\n",
      "\"These variables have zero variances: legs5\"Warning message in preProcess.default(thresh = 0.95, k = 5, freqCut = 19, uniqueCut = 10, :\n",
      "\"These variables have zero variances: legs5\"Warning message in preProcess.default(thresh = 0.95, k = 5, freqCut = 19, uniqueCut = 10, :\n",
      "\"These variables have zero variances: legs5\"Warning message in preProcess.default(thresh = 0.95, k = 5, freqCut = 19, uniqueCut = 10, :\n",
      "\"These variables have zero variances: legs5\"Warning message in preProcess.default(thresh = 0.95, k = 5, freqCut = 19, uniqueCut = 10, :\n",
      "\"These variables have zero variances: legs5\"Warning message in preProcess.default(thresh = 0.95, k = 5, freqCut = 19, uniqueCut = 10, :\n",
      "\"These variables have zero variances: legs5\"Warning message in preProcess.default(thresh = 0.95, k = 5, freqCut = 19, uniqueCut = 10, :\n",
      "\"These variables have zero variances: legs5\"Warning message in preProcess.default(thresh = 0.95, k = 5, freqCut = 19, uniqueCut = 10, :\n",
      "\"These variables have zero variances: legs5\"Warning message in preProcess.default(thresh = 0.95, k = 5, freqCut = 19, uniqueCut = 10, :\n",
      "\"These variables have zero variances: legs5\"Warning message in preProcess.default(thresh = 0.95, k = 5, freqCut = 19, uniqueCut = 10, :\n",
      "\"These variables have zero variances: legs5\"Warning message in preProcess.default(thresh = 0.95, k = 5, freqCut = 19, uniqueCut = 10, :\n",
      "\"These variables have zero variances: legs5\"Warning message in preProcess.default(thresh = 0.95, k = 5, freqCut = 19, uniqueCut = 10, :\n",
      "\"These variables have zero variances: legs5\"Warning message in preProcess.default(thresh = 0.95, k = 5, freqCut = 19, uniqueCut = 10, :\n",
      "\"These variables have zero variances: legs5\"Warning message in preProcess.default(thresh = 0.95, k = 5, freqCut = 19, uniqueCut = 10, :\n",
      "\"These variables have zero variances: legs5\"Warning message in preProcess.default(thresh = 0.95, k = 5, freqCut = 19, uniqueCut = 10, :\n",
      "\"These variables have zero variances: legs5\""
     ]
    }
   ],
   "source": [
    "# KNN Model \n",
    "\n",
    "trcontrol <- trainControl(method = \"repeatedcv\", number = 10,repeats = 3\n",
    "                           # classprobs are needed when u want to select ROC for optimal K Value\n",
    "                          )\n",
    "set.seed(222)\n",
    "fit <- train(type ~., data = train, method = 'knn', tuneLength = 20,\n",
    "              trControl = trcontrol, preProc = c(\"center\",\"scale\"))"
   ]
  },
  {
   "cell_type": "code",
   "execution_count": 8,
   "metadata": {},
   "outputs": [
    {
     "data": {
      "text/plain": [
       "k-Nearest Neighbors \n",
       "\n",
       "72 samples\n",
       "16 predictors\n",
       " 7 classes: '1', '2', '3', '4', '5', '6', '7' \n",
       "\n",
       "Pre-processing: centered (20), scaled (20) \n",
       "Resampling: Cross-Validated (10 fold, repeated 3 times) \n",
       "Summary of sample sizes: 64, 63, 67, 65, 65, 66, ... \n",
       "Resampling results across tuning parameters:\n",
       "\n",
       "  k   Accuracy   Kappa    \n",
       "   5  0.9184524  0.8920928\n",
       "   7  0.8970238  0.8643051\n",
       "   9  0.8594577  0.8162578\n",
       "  11  0.8512566  0.8028303\n",
       "  13  0.8337963  0.7816668\n",
       "  15  0.8183333  0.7599754\n",
       "  17  0.7790476  0.7091131\n",
       "  19  0.7475000  0.6632273\n",
       "  21  0.7469709  0.6629714\n",
       "  23  0.7154233  0.6169815\n",
       "  25  0.7057011  0.6022150\n",
       "  27  0.7112566  0.6122015\n",
       "  29  0.6851984  0.5704835\n",
       "  31  0.6133730  0.4587280\n",
       "  33  0.5700529  0.3844813\n",
       "  35  0.5287302  0.3085794\n",
       "  37  0.5237698  0.3019200\n",
       "  39  0.5009524  0.2645616\n",
       "  41  0.4835582  0.2295562\n",
       "  43  0.4602249  0.1861980\n",
       "\n",
       "Accuracy was used to select the optimal model using the largest value.\n",
       "The final value used for the model was k = 5."
      ]
     },
     "metadata": {},
     "output_type": "display_data"
    }
   ],
   "source": [
    "# default metric is accuracy but if u want to use ROC, then mention the same\n",
    "# Model Performance :\n",
    "fit # the optimum value for k should be 7"
   ]
  },
  {
   "cell_type": "code",
   "execution_count": 9,
   "metadata": {},
   "outputs": [
    {
     "data": {
      "image/png": "[encoded data removed]",
      "text/plain": [
       "plot without title"
      ]
     },
     "metadata": {},
     "output_type": "display_data"
    }
   ],
   "source": [
    "plot(fit)"
   ]
  },
  {
   "cell_type": "code",
   "execution_count": 10,
   "metadata": {},
   "outputs": [
    {
     "data": {
      "text/plain": [
       "ROC curve variable importance\n",
       "\n",
       "  variables are sorted by maximum importance across the classes\n",
       "              X1     X2      X3      X4      X5      X6      X7\n",
       "milk     100.000 100.00 100.000 100.000 100.000 100.000 100.000\n",
       "breathes  20.000 100.00   0.000   0.000  75.000  20.000 100.000\n",
       "hair     100.000 100.00 100.000 100.000 100.000 100.000 100.000\n",
       "backbone   0.000   0.00   0.000 100.000 100.000   0.000   0.000\n",
       "feathers 100.000 100.00 100.000 100.000 100.000 100.000   0.000\n",
       "legs      70.370  96.30  70.370 100.000  70.370  70.370  96.296\n",
       "toothed   96.296  96.30  96.296  96.296  96.296  96.296  16.296\n",
       "eggs      96.296  96.30  96.296  96.296  96.296  96.296  96.296\n",
       "fins       7.407  92.59   7.407   7.407   7.407   7.407  92.593\n",
       "aquatic    8.262  85.19  85.185  14.815  47.685   8.262  85.185\n",
       "tail      18.519  18.52  81.481  81.481  81.481  18.519  18.519\n",
       "airborne  69.516  69.52  69.516  75.926  69.516  76.923   7.407\n",
       "catsize   54.074  51.00  74.074  74.074  61.574  50.997  54.074\n",
       "venomous  40.000   0.00  50.000  33.333  12.500  40.000  40.000\n",
       "predator  31.852  24.58   5.698  31.481  26.852  26.154  31.852\n",
       "domestic  18.519  18.52  18.519  10.826  18.519  10.826  18.519"
      ]
     },
     "metadata": {},
     "output_type": "display_data"
    }
   ],
   "source": [
    "varImp(fit)"
   ]
  },
  {
   "cell_type": "code",
   "execution_count": 11,
   "metadata": {},
   "outputs": [
    {
     "data": {
      "text/plain": [
       "Confusion Matrix and Statistics\n",
       "\n",
       "          Reference\n",
       "Prediction  1  2  3  4  5  6  7\n",
       "         1 12  0  0  0  0  0  0\n",
       "         2  0  7  0  0  0  0  0\n",
       "         3  0  0  0  0  0  0  0\n",
       "         4  2  0  0  2  1  0  0\n",
       "         5  0  0  0  0  1  0  0\n",
       "         6  0  0  0  0  0  2  0\n",
       "         7  0  0  0  0  0  0  2\n",
       "\n",
       "Overall Statistics\n",
       "                                          \n",
       "               Accuracy : 0.8966          \n",
       "                 95% CI : (0.7265, 0.9781)\n",
       "    No Information Rate : 0.4828          \n",
       "    P-Value [Acc > NIR] : 3.361e-06       \n",
       "                                          \n",
       "                  Kappa : 0.856           \n",
       "                                          \n",
       " Mcnemar's Test P-Value : NA              \n",
       "\n",
       "Statistics by Class:\n",
       "\n",
       "                     Class: 1 Class: 2 Class: 3 Class: 4 Class: 5 Class: 6\n",
       "Sensitivity            0.8571   1.0000       NA  1.00000  0.50000  1.00000\n",
       "Specificity            1.0000   1.0000        1  0.88889  1.00000  1.00000\n",
       "Pos Pred Value         1.0000   1.0000       NA  0.40000  1.00000  1.00000\n",
       "Neg Pred Value         0.8824   1.0000       NA  1.00000  0.96429  1.00000\n",
       "Prevalence             0.4828   0.2414        0  0.06897  0.06897  0.06897\n",
       "Detection Rate         0.4138   0.2414        0  0.06897  0.03448  0.06897\n",
       "Detection Prevalence   0.4138   0.2414        0  0.17241  0.03448  0.06897\n",
       "Balanced Accuracy      0.9286   1.0000       NA  0.94444  0.75000  1.00000\n",
       "                     Class: 7\n",
       "Sensitivity           1.00000\n",
       "Specificity           1.00000\n",
       "Pos Pred Value        1.00000\n",
       "Neg Pred Value        1.00000\n",
       "Prevalence            0.06897\n",
       "Detection Rate        0.06897\n",
       "Detection Prevalence  0.06897\n",
       "Balanced Accuracy     1.00000"
      ]
     },
     "metadata": {},
     "output_type": "display_data"
    }
   ],
   "source": [
    "pred <- predict(fit, newdata = test )\n",
    "confusionMatrix(pred, test$type)"
   ]
  },
  {
   "cell_type": "code",
   "execution_count": 12,
   "metadata": {},
   "outputs": [],
   "source": [
    "# 89.66 % is accuracy"
   ]
  }
 ],
 "metadata": {
  "kernelspec": {
   "display_name": "R",
   "language": "R",
   "name": "ir"
  },
  "language_info": {
   "codemirror_mode": "r",
   "file_extension": ".r",
   "mimetype": "text/x-r-source",
   "name": "R",
   "pygments_lexer": "r",
   "version": "3.6.1"
  }
 },
 "nbformat": 4,
 "nbformat_minor": 4
}
